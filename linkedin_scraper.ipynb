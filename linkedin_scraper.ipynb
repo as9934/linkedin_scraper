{
 "cells": [
  {
   "cell_type": "code",
   "execution_count": 1,
   "metadata": {},
   "outputs": [],
   "source": [
    "from selenium import webdriver"
   ]
  },
  {
   "cell_type": "code",
   "execution_count": 2,
   "metadata": {},
   "outputs": [],
   "source": [
    "import parameters"
   ]
  },
  {
   "cell_type": "code",
   "execution_count": 3,
   "metadata": {},
   "outputs": [],
   "source": [
    "from time import sleep"
   ]
  },
  {
   "cell_type": "code",
   "execution_count": 4,
   "metadata": {},
   "outputs": [],
   "source": [
    "from selenium.webdriver.common.keys import Keys"
   ]
  },
  {
   "cell_type": "code",
   "execution_count": 5,
   "metadata": {},
   "outputs": [],
   "source": [
    "from parsel import Selector"
   ]
  },
  {
   "cell_type": "code",
   "execution_count": 6,
   "metadata": {},
   "outputs": [],
   "source": [
    "import csv"
   ]
  },
  {
   "cell_type": "code",
   "execution_count": 7,
   "metadata": {},
   "outputs": [],
   "source": [
    "def validate_field(field):\n",
    "    if field:\n",
    "        pass\n",
    "    else:\n",
    "        field = 'No results'\n",
    "    return field"
   ]
  },
  {
   "cell_type": "code",
   "execution_count": 8,
   "metadata": {},
   "outputs": [],
   "source": [
    "writer = csv.writer(open(parameters.file_name, 'w'))"
   ]
  },
  {
   "cell_type": "code",
   "execution_count": 9,
   "metadata": {},
   "outputs": [
    {
     "data": {
      "text/plain": [
       "67"
      ]
     },
     "execution_count": 9,
     "metadata": {},
     "output_type": "execute_result"
    }
   ],
   "source": [
    "writer.writerow(['Name','Job Title','Current Company','School Attended','Years Attended','URL'])"
   ]
  },
  {
   "cell_type": "code",
   "execution_count": 10,
   "metadata": {},
   "outputs": [],
   "source": [
    "driver = webdriver.Chrome('/Users/as9934/Downloads/chromedriver')\n",
    "driver.get('https://www.linkedin.com/login?fromSignIn=true&trk=guest_homepage-basic_nav-header-signin')"
   ]
  },
  {
   "cell_type": "code",
   "execution_count": 11,
   "metadata": {},
   "outputs": [],
   "source": [
    "username = driver.find_element_by_id('username')"
   ]
  },
  {
   "cell_type": "code",
   "execution_count": 12,
   "metadata": {},
   "outputs": [],
   "source": [
    "username.send_keys(parameters.linkedin_username)"
   ]
  },
  {
   "cell_type": "code",
   "execution_count": 13,
   "metadata": {},
   "outputs": [],
   "source": [
    "sleep(0.5)"
   ]
  },
  {
   "cell_type": "code",
   "execution_count": 14,
   "metadata": {},
   "outputs": [],
   "source": [
    "password = driver.find_element_by_id('password')"
   ]
  },
  {
   "cell_type": "code",
   "execution_count": 15,
   "metadata": {},
   "outputs": [],
   "source": [
    "password.send_keys(parameters.linkedin_password)"
   ]
  },
  {
   "cell_type": "code",
   "execution_count": 16,
   "metadata": {},
   "outputs": [],
   "source": [
    "sleep(0.5)"
   ]
  },
  {
   "cell_type": "code",
   "execution_count": 17,
   "metadata": {},
   "outputs": [],
   "source": [
    "log_in_button = driver.find_element_by_class_name('btn__primary--large.from__button--floating') "
   ]
  },
  {
   "cell_type": "code",
   "execution_count": 18,
   "metadata": {},
   "outputs": [],
   "source": [
    "log_in_button.click()"
   ]
  },
  {
   "cell_type": "code",
   "execution_count": 19,
   "metadata": {},
   "outputs": [],
   "source": [
    "sleep(0.5)"
   ]
  },
  {
   "cell_type": "code",
   "execution_count": 20,
   "metadata": {},
   "outputs": [],
   "source": [
    "driver.get('https://www.google.com/')"
   ]
  },
  {
   "cell_type": "code",
   "execution_count": 21,
   "metadata": {},
   "outputs": [],
   "source": [
    "sleep(1)"
   ]
  },
  {
   "cell_type": "code",
   "execution_count": 22,
   "metadata": {},
   "outputs": [],
   "source": [
    "search_query = driver.find_element_by_name('q')"
   ]
  },
  {
   "cell_type": "code",
   "execution_count": 23,
   "metadata": {},
   "outputs": [],
   "source": [
    "search_query.send_keys('site:linkedin.com/in/ \"University of California, Berkeley\" AND \"Journalism\" OR \"Documentary\" ')"
   ]
  },
  {
   "cell_type": "code",
   "execution_count": 24,
   "metadata": {},
   "outputs": [],
   "source": [
    "sleep(0.5)"
   ]
  },
  {
   "cell_type": "code",
   "execution_count": 25,
   "metadata": {},
   "outputs": [],
   "source": [
    "search_query.send_keys(Keys.RETURN)"
   ]
  },
  {
   "cell_type": "code",
   "execution_count": 26,
   "metadata": {},
   "outputs": [],
   "source": [
    "sleep(1)"
   ]
  },
  {
   "cell_type": "code",
   "execution_count": 27,
   "metadata": {},
   "outputs": [],
   "source": [
    "more_results = driver.current_url + '&num=150'"
   ]
  },
  {
   "cell_type": "code",
   "execution_count": 28,
   "metadata": {},
   "outputs": [],
   "source": [
    "driver.get(more_results)"
   ]
  },
  {
   "cell_type": "code",
   "execution_count": 29,
   "metadata": {},
   "outputs": [],
   "source": [
    "linkedin_urls = []"
   ]
  },
  {
   "cell_type": "code",
   "execution_count": 30,
   "metadata": {},
   "outputs": [],
   "source": [
    "content_blocks = driver.find_elements_by_class_name(\"r\")\n",
    "\n",
    "for block in content_blocks:\n",
    "    elements = block.find_elements_by_tag_name(\"a\")\n",
    "    for el in elements:\n",
    "        linkedin_urls.append(el.get_attribute(\"href\"))"
   ]
  },
  {
   "cell_type": "code",
   "execution_count": 31,
   "metadata": {},
   "outputs": [
    {
     "name": "stdout",
     "output_type": "stream",
     "text": [
      "['https://www.linkedin.com/in/yue-li-187492b3', 'https://www.linkedin.com/in/evarendle', 'https://www.linkedin.com/in/meghan-mariani-5bb670139', 'https://www.linkedin.com/in/edwardwasserman', 'https://www.google.com/search?source=hp&ei=_gu0Xo7nJ4uo_QbRq5uwDg&q=site%3Alinkedin.com%2Fin%2F+%22University+of+California%2C+Berkeley%22+AND+%22Journalism%22+OR+%22Documentary%22+&oq=site%3Alinkedin.com%2Fin%2F+%22University+of+California%2C+Berkeley%22+AND+%22Journalism%22+OR+%22Documentary%22+&gs_lcp=CgZwc3ktYWIQA1DaDVjoGGCNHWgAcAB4AoAB5gKIAfgHkgEDMy0zmAEAoAEBqgEHZ3dzLXdpeg&sclient=psy-ab&ved=0ahUKEwiO3png7KHpAhULVN8KHdHVBuYQ4dUDCAk&uact=5&num=150#', 'https://www.google.com/search?q=related:https://www.linkedin.com/in/edwardwasserman&tbo=1&sa=X&ved=2ahUKEwj1lPLj7KHpAhWlneAKHT_oD6IQHzADegQIBBAG', 'https://www.linkedin.com/in/abi-speers-958795112', 'https://www.linkedin.com/in/betsyrate', 'https://www.google.com/search?source=hp&ei=_gu0Xo7nJ4uo_QbRq5uwDg&q=site%3Alinkedin.com%2Fin%2F+%22University+of+California%2C+Berkeley%22+AND+%22Journalism%22+OR+%22Documentary%22+&oq=site%3Alinkedin.com%2Fin%2F+%22University+of+California%2C+Berkeley%22+AND+%22Journalism%22+OR+%22Documentary%22+&gs_lcp=CgZwc3ktYWIQA1DaDVjoGGCNHWgAcAB4AoAB5gKIAfgHkgEDMy0zmAEAoAEBqgEHZ3dzLXdpeg&sclient=psy-ab&ved=0ahUKEwiO3png7KHpAhULVN8KHdHVBuYQ4dUDCAk&uact=5&num=150#', 'https://www.google.com/search?q=related:https://www.linkedin.com/in/betsyrate&tbo=1&sa=X&ved=2ahUKEwj1lPLj7KHpAhWlneAKHT_oD6IQHzAFegQINBAG', 'https://www.linkedin.com/in/carrie-lozano-documentary', 'https://www.linkedin.com/in/berkeleyjschool', 'https://www.google.com/search?source=hp&ei=_gu0Xo7nJ4uo_QbRq5uwDg&q=site%3Alinkedin.com%2Fin%2F+%22University+of+California%2C+Berkeley%22+AND+%22Journalism%22+OR+%22Documentary%22+&oq=site%3Alinkedin.com%2Fin%2F+%22University+of+California%2C+Berkeley%22+AND+%22Journalism%22+OR+%22Documentary%22+&gs_lcp=CgZwc3ktYWIQA1DaDVjoGGCNHWgAcAB4AoAB5gKIAfgHkgEDMy0zmAEAoAEBqgEHZ3dzLXdpeg&sclient=psy-ab&ved=0ahUKEwiO3png7KHpAhULVN8KHdHVBuYQ4dUDCAk&uact=5&num=150#', 'https://www.google.com/search?q=related:https://www.linkedin.com/in/berkeleyjschool&tbo=1&sa=X&ved=2ahUKEwj1lPLj7KHpAhWlneAKHT_oD6IQHzAHegQINhAG', 'https://www.linkedin.com/in/cassandraherrman', 'https://www.linkedin.com/in/lauren-kawana-a2449b10', 'https://www.google.com/search?source=hp&ei=_gu0Xo7nJ4uo_QbRq5uwDg&q=site%3Alinkedin.com%2Fin%2F+%22University+of+California%2C+Berkeley%22+AND+%22Journalism%22+OR+%22Documentary%22+&oq=site%3Alinkedin.com%2Fin%2F+%22University+of+California%2C+Berkeley%22+AND+%22Journalism%22+OR+%22Documentary%22+&gs_lcp=CgZwc3ktYWIQA1DaDVjoGGCNHWgAcAB4AoAB5gKIAfgHkgEDMy0zmAEAoAEBqgEHZ3dzLXdpeg&sclient=psy-ab&ved=0ahUKEwiO3png7KHpAhULVN8KHdHVBuYQ4dUDCAk&uact=5&num=150#', 'https://www.google.com/search?q=related:https://www.linkedin.com/in/lauren-kawana-a2449b10&tbo=1&sa=X&ved=2ahUKEwj1lPLj7KHpAhWlneAKHT_oD6IQHzAJegQIPBAG', 'https://www.linkedin.com/in/kate-mclean-5253524', 'https://www.google.com/search?source=hp&ei=_gu0Xo7nJ4uo_QbRq5uwDg&q=site%3Alinkedin.com%2Fin%2F+%22University+of+California%2C+Berkeley%22+AND+%22Journalism%22+OR+%22Documentary%22+&oq=site%3Alinkedin.com%2Fin%2F+%22University+of+California%2C+Berkeley%22+AND+%22Journalism%22+OR+%22Documentary%22+&gs_lcp=CgZwc3ktYWIQA1DaDVjoGGCNHWgAcAB4AoAB5gKIAfgHkgEDMy0zmAEAoAEBqgEHZ3dzLXdpeg&sclient=psy-ab&ved=0ahUKEwiO3png7KHpAhULVN8KHdHVBuYQ4dUDCAk&uact=5&num=150#', 'https://www.google.com/search?q=related:https://www.linkedin.com/in/kate-mclean-5253524&tbo=1&sa=X&ved=2ahUKEwj1lPLj7KHpAhWlneAKHT_oD6IQHzAKegQIPRAG', 'https://www.linkedin.com/in/jeff-rhode-4825b271', 'https://www.google.com/search?source=hp&ei=_gu0Xo7nJ4uo_QbRq5uwDg&q=site%3Alinkedin.com%2Fin%2F+%22University+of+California%2C+Berkeley%22+AND+%22Journalism%22+OR+%22Documentary%22+&oq=site%3Alinkedin.com%2Fin%2F+%22University+of+California%2C+Berkeley%22+AND+%22Journalism%22+OR+%22Documentary%22+&gs_lcp=CgZwc3ktYWIQA1DaDVjoGGCNHWgAcAB4AoAB5gKIAfgHkgEDMy0zmAEAoAEBqgEHZ3dzLXdpeg&sclient=psy-ab&ved=0ahUKEwiO3png7KHpAhULVN8KHdHVBuYQ4dUDCAk&uact=5&num=150#', 'https://www.google.com/search?q=related:https://www.linkedin.com/in/jeff-rhode-4825b271&tbo=1&sa=X&ved=2ahUKEwj1lPLj7KHpAhWlneAKHT_oD6IQHzALegQIPxAG', 'https://www.linkedin.com/in/mike-shen-221210b', 'https://www.google.com/search?source=hp&ei=_gu0Xo7nJ4uo_QbRq5uwDg&q=site%3Alinkedin.com%2Fin%2F+%22University+of+California%2C+Berkeley%22+AND+%22Journalism%22+OR+%22Documentary%22+&oq=site%3Alinkedin.com%2Fin%2F+%22University+of+California%2C+Berkeley%22+AND+%22Journalism%22+OR+%22Documentary%22+&gs_lcp=CgZwc3ktYWIQA1DaDVjoGGCNHWgAcAB4AoAB5gKIAfgHkgEDMy0zmAEAoAEBqgEHZ3dzLXdpeg&sclient=psy-ab&ved=0ahUKEwiO3png7KHpAhULVN8KHdHVBuYQ4dUDCAk&uact=5&num=150#', 'https://www.google.com/search?q=related:https://www.linkedin.com/in/mike-shen-221210b&tbo=1&sa=X&ved=2ahUKEwj1lPLj7KHpAhWlneAKHT_oD6IQHzAMegQIQBAG', 'https://www.linkedin.com/in/yue-li-187492b3/%7Bcountry%3Dcn%2C+language%3Dzh%7D?trk=people-guest_profile-result-card_result-card_full-click', 'https://www.linkedin.com/in/annedaugherty', 'https://www.linkedin.com/in/grace-oyenubi-089ab110b', 'https://www.linkedin.com/in/sam-goldman-152182ab', 'https://www.linkedin.com/in/david-e-thigpen-b7336b5', 'https://www.google.com/search?source=hp&ei=_gu0Xo7nJ4uo_QbRq5uwDg&q=site%3Alinkedin.com%2Fin%2F+%22University+of+California%2C+Berkeley%22+AND+%22Journalism%22+OR+%22Documentary%22+&oq=site%3Alinkedin.com%2Fin%2F+%22University+of+California%2C+Berkeley%22+AND+%22Journalism%22+OR+%22Documentary%22+&gs_lcp=CgZwc3ktYWIQA1DaDVjoGGCNHWgAcAB4AoAB5gKIAfgHkgEDMy0zmAEAoAEBqgEHZ3dzLXdpeg&sclient=psy-ab&ved=0ahUKEwiO3png7KHpAhULVN8KHdHVBuYQ4dUDCAk&uact=5&num=150#', 'https://www.google.com/search?q=related:https://www.linkedin.com/in/david-e-thigpen-b7336b5&tbo=1&sa=X&ved=2ahUKEwj1lPLj7KHpAhWlneAKHT_oD6IQHzARegQISRAG', 'https://www.linkedin.com/in/kelly-whalen-60a6844', 'https://www.google.com/search?source=hp&ei=_gu0Xo7nJ4uo_QbRq5uwDg&q=site%3Alinkedin.com%2Fin%2F+%22University+of+California%2C+Berkeley%22+AND+%22Journalism%22+OR+%22Documentary%22+&oq=site%3Alinkedin.com%2Fin%2F+%22University+of+California%2C+Berkeley%22+AND+%22Journalism%22+OR+%22Documentary%22+&gs_lcp=CgZwc3ktYWIQA1DaDVjoGGCNHWgAcAB4AoAB5gKIAfgHkgEDMy0zmAEAoAEBqgEHZ3dzLXdpeg&sclient=psy-ab&ved=0ahUKEwiO3png7KHpAhULVN8KHdHVBuYQ4dUDCAk&uact=5&num=150#', 'https://www.google.com/search?q=related:https://www.linkedin.com/in/kelly-whalen-60a6844&tbo=1&sa=X&ved=2ahUKEwj1lPLj7KHpAhWlneAKHT_oD6IQHzASegQIShAG', 'https://www.linkedin.com/in/emilymariegibson', 'https://www.google.com/search?source=hp&ei=_gu0Xo7nJ4uo_QbRq5uwDg&q=site%3Alinkedin.com%2Fin%2F+%22University+of+California%2C+Berkeley%22+AND+%22Journalism%22+OR+%22Documentary%22+&oq=site%3Alinkedin.com%2Fin%2F+%22University+of+California%2C+Berkeley%22+AND+%22Journalism%22+OR+%22Documentary%22+&gs_lcp=CgZwc3ktYWIQA1DaDVjoGGCNHWgAcAB4AoAB5gKIAfgHkgEDMy0zmAEAoAEBqgEHZ3dzLXdpeg&sclient=psy-ab&ved=0ahUKEwiO3png7KHpAhULVN8KHdHVBuYQ4dUDCAk&uact=5&num=150#', 'https://www.google.com/search?q=related:https://www.linkedin.com/in/emilymariegibson&tbo=1&sa=X&ved=2ahUKEwj1lPLj7KHpAhWlneAKHT_oD6IQHzATegQISxAG', 'https://www.linkedin.com/in/keaton-whittaker-919a3314b', 'https://www.linkedin.com/in/craighickerson', 'https://www.linkedin.com/in/eleni-gill', 'https://www.linkedin.com/in/erik-neumann-162b3827', 'https://www.google.com/search?source=hp&ei=_gu0Xo7nJ4uo_QbRq5uwDg&q=site%3Alinkedin.com%2Fin%2F+%22University+of+California%2C+Berkeley%22+AND+%22Journalism%22+OR+%22Documentary%22+&oq=site%3Alinkedin.com%2Fin%2F+%22University+of+California%2C+Berkeley%22+AND+%22Journalism%22+OR+%22Documentary%22+&gs_lcp=CgZwc3ktYWIQA1DaDVjoGGCNHWgAcAB4AoAB5gKIAfgHkgEDMy0zmAEAoAEBqgEHZ3dzLXdpeg&sclient=psy-ab&ved=0ahUKEwiO3png7KHpAhULVN8KHdHVBuYQ4dUDCAk&uact=5&num=150#', 'https://www.google.com/search?q=related:https://www.linkedin.com/in/erik-neumann-162b3827&tbo=1&sa=X&ved=2ahUKEwj1lPLj7KHpAhWlneAKHT_oD6IQHzAXegQIUBAG', 'https://www.linkedin.com/in/marilyn-chase-3749609', 'https://www.google.com/search?source=hp&ei=_gu0Xo7nJ4uo_QbRq5uwDg&q=site%3Alinkedin.com%2Fin%2F+%22University+of+California%2C+Berkeley%22+AND+%22Journalism%22+OR+%22Documentary%22+&oq=site%3Alinkedin.com%2Fin%2F+%22University+of+California%2C+Berkeley%22+AND+%22Journalism%22+OR+%22Documentary%22+&gs_lcp=CgZwc3ktYWIQA1DaDVjoGGCNHWgAcAB4AoAB5gKIAfgHkgEDMy0zmAEAoAEBqgEHZ3dzLXdpeg&sclient=psy-ab&ved=0ahUKEwiO3png7KHpAhULVN8KHdHVBuYQ4dUDCAk&uact=5&num=150#', 'https://www.google.com/search?q=related:https://www.linkedin.com/in/marilyn-chase-3749609&tbo=1&sa=X&ved=2ahUKEwj1lPLj7KHpAhWlneAKHT_oD6IQHzAYegQIUhAG', 'https://www.linkedin.com/in/melinatupa/en', 'https://www.linkedin.com/in/hao/%7Bcountry%3Dnl%2C+language%3Dnl%7D?trk=people-guest_profile-result-card_result-card_full-click', 'https://www.linkedin.com/in/erin-banks-rusby-9240242a', 'https://www.linkedin.com/in/brett-simpson-332073a9', 'https://www.google.com/search?source=hp&ei=_gu0Xo7nJ4uo_QbRq5uwDg&q=site%3Alinkedin.com%2Fin%2F+%22University+of+California%2C+Berkeley%22+AND+%22Journalism%22+OR+%22Documentary%22+&oq=site%3Alinkedin.com%2Fin%2F+%22University+of+California%2C+Berkeley%22+AND+%22Journalism%22+OR+%22Documentary%22+&gs_lcp=CgZwc3ktYWIQA1DaDVjoGGCNHWgAcAB4AoAB5gKIAfgHkgEDMy0zmAEAoAEBqgEHZ3dzLXdpeg&sclient=psy-ab&ved=0ahUKEwiO3png7KHpAhULVN8KHdHVBuYQ4dUDCAk&uact=5&num=150#', 'https://www.google.com/search?q=related:https://www.linkedin.com/in/brett-simpson-332073a9&tbo=1&sa=X&ved=2ahUKEwj1lPLj7KHpAhWlneAKHT_oD6IQHzAcegQITBAG', 'https://www.linkedin.com/in/pamela-gleason-0969775', 'https://www.google.com/search?source=hp&ei=_gu0Xo7nJ4uo_QbRq5uwDg&q=site%3Alinkedin.com%2Fin%2F+%22University+of+California%2C+Berkeley%22+AND+%22Journalism%22+OR+%22Documentary%22+&oq=site%3Alinkedin.com%2Fin%2F+%22University+of+California%2C+Berkeley%22+AND+%22Journalism%22+OR+%22Documentary%22+&gs_lcp=CgZwc3ktYWIQA1DaDVjoGGCNHWgAcAB4AoAB5gKIAfgHkgEDMy0zmAEAoAEBqgEHZ3dzLXdpeg&sclient=psy-ab&ved=0ahUKEwiO3png7KHpAhULVN8KHdHVBuYQ4dUDCAk&uact=5&num=150#', 'https://www.google.com/search?q=related:https://www.linkedin.com/in/pamela-gleason-0969775&tbo=1&sa=X&ved=2ahUKEwj1lPLj7KHpAhWlneAKHT_oD6IQHzAdegQIVxAG', 'https://www.linkedin.com/in/nishabalaram', 'https://www.google.com/search?source=hp&ei=_gu0Xo7nJ4uo_QbRq5uwDg&q=site%3Alinkedin.com%2Fin%2F+%22University+of+California%2C+Berkeley%22+AND+%22Journalism%22+OR+%22Documentary%22+&oq=site%3Alinkedin.com%2Fin%2F+%22University+of+California%2C+Berkeley%22+AND+%22Journalism%22+OR+%22Documentary%22+&gs_lcp=CgZwc3ktYWIQA1DaDVjoGGCNHWgAcAB4AoAB5gKIAfgHkgEDMy0zmAEAoAEBqgEHZ3dzLXdpeg&sclient=psy-ab&ved=0ahUKEwiO3png7KHpAhULVN8KHdHVBuYQ4dUDCAk&uact=5&num=150#', 'https://www.google.com/search?q=related:https://www.linkedin.com/in/nishabalaram&tbo=1&sa=X&ved=2ahUKEwj1lPLj7KHpAhWlneAKHT_oD6IQHzAeegQIWBAG', 'https://www.linkedin.com/in/marco-torrez-874413166', 'https://www.linkedin.com/in/aynur-sadet-3095a960', 'https://www.google.com/search?source=hp&ei=_gu0Xo7nJ4uo_QbRq5uwDg&q=site%3Alinkedin.com%2Fin%2F+%22University+of+California%2C+Berkeley%22+AND+%22Journalism%22+OR+%22Documentary%22+&oq=site%3Alinkedin.com%2Fin%2F+%22University+of+California%2C+Berkeley%22+AND+%22Journalism%22+OR+%22Documentary%22+&gs_lcp=CgZwc3ktYWIQA1DaDVjoGGCNHWgAcAB4AoAB5gKIAfgHkgEDMy0zmAEAoAEBqgEHZ3dzLXdpeg&sclient=psy-ab&ved=0ahUKEwiO3png7KHpAhULVN8KHdHVBuYQ4dUDCAk&uact=5&num=150#', 'https://www.google.com/search?q=related:https://www.linkedin.com/in/aynur-sadet-3095a960&tbo=1&sa=X&ved=2ahUKEwj1lPLj7KHpAhWlneAKHT_oD6IQHzAgegQIRxAG', 'https://www.linkedin.com/in/yinuoshi/%7Bcountry%3Dus%2C+language%3Den%7D?trk=people-guest_profile-result-card_result-card_full-click', 'https://www.linkedin.com/in/vickihammarstedt', 'https://www.google.com/search?source=hp&ei=_gu0Xo7nJ4uo_QbRq5uwDg&q=site%3Alinkedin.com%2Fin%2F+%22University+of+California%2C+Berkeley%22+AND+%22Journalism%22+OR+%22Documentary%22+&oq=site%3Alinkedin.com%2Fin%2F+%22University+of+California%2C+Berkeley%22+AND+%22Journalism%22+OR+%22Documentary%22+&gs_lcp=CgZwc3ktYWIQA1DaDVjoGGCNHWgAcAB4AoAB5gKIAfgHkgEDMy0zmAEAoAEBqgEHZ3dzLXdpeg&sclient=psy-ab&ved=0ahUKEwiO3png7KHpAhULVN8KHdHVBuYQ4dUDCAk&uact=5&num=150#', 'https://www.google.com/search?q=related:https://www.linkedin.com/in/vickihammarstedt&tbo=1&sa=X&ved=2ahUKEwj1lPLj7KHpAhWlneAKHT_oD6IQHzAiegQIWxAG', 'https://www.linkedin.com/in/andr%C3%A9s-cediel-7374a57b', 'https://www.linkedin.com/in/lauracounts', 'https://www.google.com/search?source=hp&ei=_gu0Xo7nJ4uo_QbRq5uwDg&q=site%3Alinkedin.com%2Fin%2F+%22University+of+California%2C+Berkeley%22+AND+%22Journalism%22+OR+%22Documentary%22+&oq=site%3Alinkedin.com%2Fin%2F+%22University+of+California%2C+Berkeley%22+AND+%22Journalism%22+OR+%22Documentary%22+&gs_lcp=CgZwc3ktYWIQA1DaDVjoGGCNHWgAcAB4AoAB5gKIAfgHkgEDMy0zmAEAoAEBqgEHZ3dzLXdpeg&sclient=psy-ab&ved=0ahUKEwiO3png7KHpAhULVN8KHdHVBuYQ4dUDCAk&uact=5&num=150#', 'https://www.google.com/search?q=related:https://www.linkedin.com/in/lauracounts&tbo=1&sa=X&ved=2ahUKEwj1lPLj7KHpAhWlneAKHT_oD6IQHzAkegQIQxAG', 'https://www.linkedin.com/in/emily-bui-b5431a17a', 'https://www.linkedin.com/in/emily-thomas-07ba4310', 'https://www.google.com/search?source=hp&ei=_gu0Xo7nJ4uo_QbRq5uwDg&q=site%3Alinkedin.com%2Fin%2F+%22University+of+California%2C+Berkeley%22+AND+%22Journalism%22+OR+%22Documentary%22+&oq=site%3Alinkedin.com%2Fin%2F+%22University+of+California%2C+Berkeley%22+AND+%22Journalism%22+OR+%22Documentary%22+&gs_lcp=CgZwc3ktYWIQA1DaDVjoGGCNHWgAcAB4AoAB5gKIAfgHkgEDMy0zmAEAoAEBqgEHZ3dzLXdpeg&sclient=psy-ab&ved=0ahUKEwiO3png7KHpAhULVN8KHdHVBuYQ4dUDCAk&uact=5&num=150#', 'https://www.google.com/search?q=related:https://www.linkedin.com/in/emily-thomas-07ba4310&tbo=1&sa=X&ved=2ahUKEwj1lPLj7KHpAhWlneAKHT_oD6IQHzAmegQIXxAG', 'https://www.linkedin.com/in/wheelertimothy', 'https://www.google.com/search?source=hp&ei=_gu0Xo7nJ4uo_QbRq5uwDg&q=site%3Alinkedin.com%2Fin%2F+%22University+of+California%2C+Berkeley%22+AND+%22Journalism%22+OR+%22Documentary%22+&oq=site%3Alinkedin.com%2Fin%2F+%22University+of+California%2C+Berkeley%22+AND+%22Journalism%22+OR+%22Documentary%22+&gs_lcp=CgZwc3ktYWIQA1DaDVjoGGCNHWgAcAB4AoAB5gKIAfgHkgEDMy0zmAEAoAEBqgEHZ3dzLXdpeg&sclient=psy-ab&ved=0ahUKEwiO3png7KHpAhULVN8KHdHVBuYQ4dUDCAk&uact=5&num=150#', 'https://www.google.com/search?q=related:https://www.linkedin.com/in/wheelertimothy&tbo=1&sa=X&ved=2ahUKEwj1lPLj7KHpAhWlneAKHT_oD6IQHzAnegQIYBAG', 'https://www.linkedin.com/in/ldanielle24', 'https://www.linkedin.com/in/garymoskowitz', 'https://www.google.com/search?source=hp&ei=_gu0Xo7nJ4uo_QbRq5uwDg&q=site%3Alinkedin.com%2Fin%2F+%22University+of+California%2C+Berkeley%22+AND+%22Journalism%22+OR+%22Documentary%22+&oq=site%3Alinkedin.com%2Fin%2F+%22University+of+California%2C+Berkeley%22+AND+%22Journalism%22+OR+%22Documentary%22+&gs_lcp=CgZwc3ktYWIQA1DaDVjoGGCNHWgAcAB4AoAB5gKIAfgHkgEDMy0zmAEAoAEBqgEHZ3dzLXdpeg&sclient=psy-ab&ved=0ahUKEwiO3png7KHpAhULVN8KHdHVBuYQ4dUDCAk&uact=5&num=150#', 'https://www.google.com/search?q=related:https://www.linkedin.com/in/garymoskowitz&tbo=1&sa=X&ved=2ahUKEwj1lPLj7KHpAhWlneAKHT_oD6IQHzApegQIPhAG', 'https://www.linkedin.com/in/molly-forster-ab4649a2', 'https://www.linkedin.com/in/meganshutzer', 'https://www.google.com/search?source=hp&ei=_gu0Xo7nJ4uo_QbRq5uwDg&q=site%3Alinkedin.com%2Fin%2F+%22University+of+California%2C+Berkeley%22+AND+%22Journalism%22+OR+%22Documentary%22+&oq=site%3Alinkedin.com%2Fin%2F+%22University+of+California%2C+Berkeley%22+AND+%22Journalism%22+OR+%22Documentary%22+&gs_lcp=CgZwc3ktYWIQA1DaDVjoGGCNHWgAcAB4AoAB5gKIAfgHkgEDMy0zmAEAoAEBqgEHZ3dzLXdpeg&sclient=psy-ab&ved=0ahUKEwiO3png7KHpAhULVN8KHdHVBuYQ4dUDCAk&uact=5&num=150#', 'https://www.google.com/search?q=related:https://www.linkedin.com/in/meganshutzer&tbo=1&sa=X&ved=2ahUKEwj1lPLj7KHpAhWlneAKHT_oD6IQHzAregQIYxAG', 'https://www.linkedin.com/in/sarahcahlan', 'https://www.google.com/search?source=hp&ei=_gu0Xo7nJ4uo_QbRq5uwDg&q=site%3Alinkedin.com%2Fin%2F+%22University+of+California%2C+Berkeley%22+AND+%22Journalism%22+OR+%22Documentary%22+&oq=site%3Alinkedin.com%2Fin%2F+%22University+of+California%2C+Berkeley%22+AND+%22Journalism%22+OR+%22Documentary%22+&gs_lcp=CgZwc3ktYWIQA1DaDVjoGGCNHWgAcAB4AoAB5gKIAfgHkgEDMy0zmAEAoAEBqgEHZ3dzLXdpeg&sclient=psy-ab&ved=0ahUKEwiO3png7KHpAhULVN8KHdHVBuYQ4dUDCAk&uact=5&num=150#', 'https://www.google.com/search?q=related:https://www.linkedin.com/in/sarahcahlan&tbo=1&sa=X&ved=2ahUKEwj1lPLj7KHpAhWlneAKHT_oD6IQHzAsegQIZBAG', 'https://www.linkedin.com/in/marksluckie', 'https://www.google.com/search?source=hp&ei=_gu0Xo7nJ4uo_QbRq5uwDg&q=site%3Alinkedin.com%2Fin%2F+%22University+of+California%2C+Berkeley%22+AND+%22Journalism%22+OR+%22Documentary%22+&oq=site%3Alinkedin.com%2Fin%2F+%22University+of+California%2C+Berkeley%22+AND+%22Journalism%22+OR+%22Documentary%22+&gs_lcp=CgZwc3ktYWIQA1DaDVjoGGCNHWgAcAB4AoAB5gKIAfgHkgEDMy0zmAEAoAEBqgEHZ3dzLXdpeg&sclient=psy-ab&ved=0ahUKEwiO3png7KHpAhULVN8KHdHVBuYQ4dUDCAk&uact=5&num=150#', 'https://www.google.com/search?q=related:https://www.linkedin.com/in/marksluckie&tbo=1&sa=X&ved=2ahUKEwj1lPLj7KHpAhWlneAKHT_oD6IQHzAtegQIOxAG', 'https://www.linkedin.com/in/verachang', 'https://www.google.com/search?source=hp&ei=_gu0Xo7nJ4uo_QbRq5uwDg&q=site%3Alinkedin.com%2Fin%2F+%22University+of+California%2C+Berkeley%22+AND+%22Journalism%22+OR+%22Documentary%22+&oq=site%3Alinkedin.com%2Fin%2F+%22University+of+California%2C+Berkeley%22+AND+%22Journalism%22+OR+%22Documentary%22+&gs_lcp=CgZwc3ktYWIQA1DaDVjoGGCNHWgAcAB4AoAB5gKIAfgHkgEDMy0zmAEAoAEBqgEHZ3dzLXdpeg&sclient=psy-ab&ved=0ahUKEwiO3png7KHpAhULVN8KHdHVBuYQ4dUDCAk&uact=5&num=150#', 'https://www.google.com/search?q=related:https://www.linkedin.com/in/verachang&tbo=1&sa=X&ved=2ahUKEwj1lPLj7KHpAhWlneAKHT_oD6IQHzAuegQIXRAG', 'https://www.linkedin.com/in/shaleece-haas-82162b5', 'https://www.google.com/search?source=hp&ei=_gu0Xo7nJ4uo_QbRq5uwDg&q=site%3Alinkedin.com%2Fin%2F+%22University+of+California%2C+Berkeley%22+AND+%22Journalism%22+OR+%22Documentary%22+&oq=site%3Alinkedin.com%2Fin%2F+%22University+of+California%2C+Berkeley%22+AND+%22Journalism%22+OR+%22Documentary%22+&gs_lcp=CgZwc3ktYWIQA1DaDVjoGGCNHWgAcAB4AoAB5gKIAfgHkgEDMy0zmAEAoAEBqgEHZ3dzLXdpeg&sclient=psy-ab&ved=0ahUKEwiO3png7KHpAhULVN8KHdHVBuYQ4dUDCAk&uact=5&num=150#', 'https://www.google.com/search?q=related:https://www.linkedin.com/in/shaleece-haas-82162b5&tbo=1&sa=X&ved=2ahUKEwj1lPLj7KHpAhWlneAKHT_oD6IQHzAvegQIVhAG', 'https://www.linkedin.com/in/miki-katoni-67530786', 'https://www.linkedin.com/in/jasonskoff', 'https://www.google.com/search?source=hp&ei=_gu0Xo7nJ4uo_QbRq5uwDg&q=site%3Alinkedin.com%2Fin%2F+%22University+of+California%2C+Berkeley%22+AND+%22Journalism%22+OR+%22Documentary%22+&oq=site%3Alinkedin.com%2Fin%2F+%22University+of+California%2C+Berkeley%22+AND+%22Journalism%22+OR+%22Documentary%22+&gs_lcp=CgZwc3ktYWIQA1DaDVjoGGCNHWgAcAB4AoAB5gKIAfgHkgEDMy0zmAEAoAEBqgEHZ3dzLXdpeg&sclient=psy-ab&ved=0ahUKEwiO3png7KHpAhULVN8KHdHVBuYQ4dUDCAk&uact=5&num=150#', 'https://www.google.com/search?q=related:https://www.linkedin.com/in/jasonskoff&tbo=1&sa=X&ved=2ahUKEwj1lPLj7KHpAhWlneAKHT_oD6IQHzAxegQIOBAG', 'https://www.linkedin.com/in/ldanielle24/de', 'https://www.linkedin.com/in/saracatania', 'https://www.google.com/search?source=hp&ei=_gu0Xo7nJ4uo_QbRq5uwDg&q=site%3Alinkedin.com%2Fin%2F+%22University+of+California%2C+Berkeley%22+AND+%22Journalism%22+OR+%22Documentary%22+&oq=site%3Alinkedin.com%2Fin%2F+%22University+of+California%2C+Berkeley%22+AND+%22Journalism%22+OR+%22Documentary%22+&gs_lcp=CgZwc3ktYWIQA1DaDVjoGGCNHWgAcAB4AoAB5gKIAfgHkgEDMy0zmAEAoAEBqgEHZ3dzLXdpeg&sclient=psy-ab&ved=0ahUKEwiO3png7KHpAhULVN8KHdHVBuYQ4dUDCAk&uact=5&num=150#', 'https://www.google.com/search?q=related:https://www.linkedin.com/in/saracatania&tbo=1&sa=X&ved=2ahUKEwj1lPLj7KHpAhWlneAKHT_oD6IQHzAzegQIQRAG', 'https://www.linkedin.com/in/erin-chessin-367868191?trk=people-guest_profile-result-card_result-card_full-click', 'https://www.linkedin.com/in/dylanbergeson', 'https://www.linkedin.com/in/laurasydell', 'https://www.google.com/search?source=hp&ei=_gu0Xo7nJ4uo_QbRq5uwDg&q=site%3Alinkedin.com%2Fin%2F+%22University+of+California%2C+Berkeley%22+AND+%22Journalism%22+OR+%22Documentary%22+&oq=site%3Alinkedin.com%2Fin%2F+%22University+of+California%2C+Berkeley%22+AND+%22Journalism%22+OR+%22Documentary%22+&gs_lcp=CgZwc3ktYWIQA1DaDVjoGGCNHWgAcAB4AoAB5gKIAfgHkgEDMy0zmAEAoAEBqgEHZ3dzLXdpeg&sclient=psy-ab&ved=0ahUKEwiO3png7KHpAhULVN8KHdHVBuYQ4dUDCAk&uact=5&num=150#', 'https://www.google.com/search?q=related:https://www.linkedin.com/in/laurasydell&tbo=1&sa=X&ved=2ahUKEwj1lPLj7KHpAhWlneAKHT_oD6IQHzA2egQIBxAG', 'https://www.linkedin.com/in/davidjcohn', 'https://www.google.com/search?source=hp&ei=_gu0Xo7nJ4uo_QbRq5uwDg&q=site%3Alinkedin.com%2Fin%2F+%22University+of+California%2C+Berkeley%22+AND+%22Journalism%22+OR+%22Documentary%22+&oq=site%3Alinkedin.com%2Fin%2F+%22University+of+California%2C+Berkeley%22+AND+%22Journalism%22+OR+%22Documentary%22+&gs_lcp=CgZwc3ktYWIQA1DaDVjoGGCNHWgAcAB4AoAB5gKIAfgHkgEDMy0zmAEAoAEBqgEHZ3dzLXdpeg&sclient=psy-ab&ved=0ahUKEwiO3png7KHpAhULVN8KHdHVBuYQ4dUDCAk&uact=5&num=150#', 'https://www.google.com/search?q=related:https://www.linkedin.com/in/davidjcohn&tbo=1&sa=X&ved=2ahUKEwj1lPLj7KHpAhWlneAKHT_oD6IQHzA3egQIDBAG', 'https://www.linkedin.com/in/whitemanjf', 'https://www.linkedin.com/in/luisaconlon', 'https://www.google.com/search?source=hp&ei=_gu0Xo7nJ4uo_QbRq5uwDg&q=site%3Alinkedin.com%2Fin%2F+%22University+of+California%2C+Berkeley%22+AND+%22Journalism%22+OR+%22Documentary%22+&oq=site%3Alinkedin.com%2Fin%2F+%22University+of+California%2C+Berkeley%22+AND+%22Journalism%22+OR+%22Documentary%22+&gs_lcp=CgZwc3ktYWIQA1DaDVjoGGCNHWgAcAB4AoAB5gKIAfgHkgEDMy0zmAEAoAEBqgEHZ3dzLXdpeg&sclient=psy-ab&ved=0ahUKEwiO3png7KHpAhULVN8KHdHVBuYQ4dUDCAk&uact=5&num=150#', 'https://www.google.com/search?q=related:https://www.linkedin.com/in/luisaconlon&tbo=1&sa=X&ved=2ahUKEwj1lPLj7KHpAhWlneAKHT_oD6IQHzA5egQIEhAG', 'https://www.linkedin.com/in/linda-schacht-a9b3984', 'https://www.google.com/search?source=hp&ei=_gu0Xo7nJ4uo_QbRq5uwDg&q=site%3Alinkedin.com%2Fin%2F+%22University+of+California%2C+Berkeley%22+AND+%22Journalism%22+OR+%22Documentary%22+&oq=site%3Alinkedin.com%2Fin%2F+%22University+of+California%2C+Berkeley%22+AND+%22Journalism%22+OR+%22Documentary%22+&gs_lcp=CgZwc3ktYWIQA1DaDVjoGGCNHWgAcAB4AoAB5gKIAfgHkgEDMy0zmAEAoAEBqgEHZ3dzLXdpeg&sclient=psy-ab&ved=0ahUKEwiO3png7KHpAhULVN8KHdHVBuYQ4dUDCAk&uact=5&num=150#', 'https://www.google.com/search?q=related:https://www.linkedin.com/in/linda-schacht-a9b3984&tbo=1&sa=X&ved=2ahUKEwj1lPLj7KHpAhWlneAKHT_oD6IQHzA6egQIFBAG', 'https://www.linkedin.com/in/michael-milano-7672976a', 'https://www.google.com/search?source=hp&ei=_gu0Xo7nJ4uo_QbRq5uwDg&q=site%3Alinkedin.com%2Fin%2F+%22University+of+California%2C+Berkeley%22+AND+%22Journalism%22+OR+%22Documentary%22+&oq=site%3Alinkedin.com%2Fin%2F+%22University+of+California%2C+Berkeley%22+AND+%22Journalism%22+OR+%22Documentary%22+&gs_lcp=CgZwc3ktYWIQA1DaDVjoGGCNHWgAcAB4AoAB5gKIAfgHkgEDMy0zmAEAoAEBqgEHZ3dzLXdpeg&sclient=psy-ab&ved=0ahUKEwiO3png7KHpAhULVN8KHdHVBuYQ4dUDCAk&uact=5&num=150#', 'https://www.google.com/search?q=related:https://www.linkedin.com/in/michael-milano-7672976a&tbo=1&sa=X&ved=2ahUKEwj1lPLj7KHpAhWlneAKHT_oD6IQHzA7egQIFRAG', 'https://www.linkedin.com/in/julia-kane-aa47a5172', 'https://www.linkedin.com/in/verachang/zh-cn', 'https://translate.google.com/translate?hl=en&sl=zh-CN&u=https://www.linkedin.com/in/verachang/zh-cn&prev=search', 'https://www.linkedin.com/in/claremajor', 'https://www.google.com/search?source=hp&ei=_gu0Xo7nJ4uo_QbRq5uwDg&q=site%3Alinkedin.com%2Fin%2F+%22University+of+California%2C+Berkeley%22+AND+%22Journalism%22+OR+%22Documentary%22+&oq=site%3Alinkedin.com%2Fin%2F+%22University+of+California%2C+Berkeley%22+AND+%22Journalism%22+OR+%22Documentary%22+&gs_lcp=CgZwc3ktYWIQA1DaDVjoGGCNHWgAcAB4AoAB5gKIAfgHkgEDMy0zmAEAoAEBqgEHZ3dzLXdpeg&sclient=psy-ab&ved=0ahUKEwiO3png7KHpAhULVN8KHdHVBuYQ4dUDCAk&uact=5&num=150#', 'https://www.google.com/search?q=related:https://www.linkedin.com/in/claremajor&tbo=1&sa=X&ved=2ahUKEwj1lPLj7KHpAhWlneAKHT_oD6IQHzA-egQIGhAG', 'https://www.linkedin.com/in/jackiespinner', 'https://www.google.com/search?source=hp&ei=_gu0Xo7nJ4uo_QbRq5uwDg&q=site%3Alinkedin.com%2Fin%2F+%22University+of+California%2C+Berkeley%22+AND+%22Journalism%22+OR+%22Documentary%22+&oq=site%3Alinkedin.com%2Fin%2F+%22University+of+California%2C+Berkeley%22+AND+%22Journalism%22+OR+%22Documentary%22+&gs_lcp=CgZwc3ktYWIQA1DaDVjoGGCNHWgAcAB4AoAB5gKIAfgHkgEDMy0zmAEAoAEBqgEHZ3dzLXdpeg&sclient=psy-ab&ved=0ahUKEwiO3png7KHpAhULVN8KHdHVBuYQ4dUDCAk&uact=5&num=150#', 'https://www.google.com/search?q=related:https://www.linkedin.com/in/jackiespinner&tbo=1&sa=X&ved=2ahUKEwj1lPLj7KHpAhWlneAKHT_oD6IQHzA_egQIGxAG', 'https://www.linkedin.com/in/francesca-fenzi-93692648', 'https://www.linkedin.com/in/patricia-lahay-ba459a20', 'https://www.linkedin.com/in/yvette-wojciechowski', 'https://www.linkedin.com/in/mayacraig', 'https://www.google.com/search?source=hp&ei=_gu0Xo7nJ4uo_QbRq5uwDg&q=site%3Alinkedin.com%2Fin%2F+%22University+of+California%2C+Berkeley%22+AND+%22Journalism%22+OR+%22Documentary%22+&oq=site%3Alinkedin.com%2Fin%2F+%22University+of+California%2C+Berkeley%22+AND+%22Journalism%22+OR+%22Documentary%22+&gs_lcp=CgZwc3ktYWIQA1DaDVjoGGCNHWgAcAB4AoAB5gKIAfgHkgEDMy0zmAEAoAEBqgEHZ3dzLXdpeg&sclient=psy-ab&ved=0ahUKEwiO3png7KHpAhULVN8KHdHVBuYQ4dUDCAk&uact=5&num=150#', 'https://www.google.com/search?q=related:https://www.linkedin.com/in/mayacraig&tbo=1&sa=X&ved=2ahUKEwj1lPLj7KHpAhWlneAKHT_oD6IQHzBDegQIIhAG', 'https://www.linkedin.com/in/laurenschwartzman', 'https://www.google.com/search?source=hp&ei=_gu0Xo7nJ4uo_QbRq5uwDg&q=site%3Alinkedin.com%2Fin%2F+%22University+of+California%2C+Berkeley%22+AND+%22Journalism%22+OR+%22Documentary%22+&oq=site%3Alinkedin.com%2Fin%2F+%22University+of+California%2C+Berkeley%22+AND+%22Journalism%22+OR+%22Documentary%22+&gs_lcp=CgZwc3ktYWIQA1DaDVjoGGCNHWgAcAB4AoAB5gKIAfgHkgEDMy0zmAEAoAEBqgEHZ3dzLXdpeg&sclient=psy-ab&ved=0ahUKEwiO3png7KHpAhULVN8KHdHVBuYQ4dUDCAk&uact=5&num=150#', 'https://www.google.com/search?q=related:https://www.linkedin.com/in/laurenschwartzman&tbo=1&sa=X&ved=2ahUKEwj1lPLj7KHpAhWlneAKHT_oD6IQHzBEegQIIxAG', 'https://www.linkedin.com/in/yinuoshi', 'https://www.linkedin.com/in/megan-mylan-70b9955', 'https://www.linkedin.com/in/sachi-cunningham-2871794', 'https://www.linkedin.com/in/brucekoon/de', 'https://www.linkedin.com/in/matt-durning-06b7305', 'https://www.google.com/search?source=hp&ei=_gu0Xo7nJ4uo_QbRq5uwDg&q=site%3Alinkedin.com%2Fin%2F+%22University+of+California%2C+Berkeley%22+AND+%22Journalism%22+OR+%22Documentary%22+&oq=site%3Alinkedin.com%2Fin%2F+%22University+of+California%2C+Berkeley%22+AND+%22Journalism%22+OR+%22Documentary%22+&gs_lcp=CgZwc3ktYWIQA1DaDVjoGGCNHWgAcAB4AoAB5gKIAfgHkgEDMy0zmAEAoAEBqgEHZ3dzLXdpeg&sclient=psy-ab&ved=0ahUKEwiO3png7KHpAhULVN8KHdHVBuYQ4dUDCAk&uact=5&num=150#', 'https://www.google.com/search?q=related:https://www.linkedin.com/in/matt-durning-06b7305&tbo=1&sa=X&ved=2ahUKEwj1lPLj7KHpAhWlneAKHT_oD6IQHzBJegQIIRAG', 'https://www.linkedin.com/in/sarah-gray-isenberg-9a536666', 'https://www.google.com/search?source=hp&ei=_gu0Xo7nJ4uo_QbRq5uwDg&q=site%3Alinkedin.com%2Fin%2F+%22University+of+California%2C+Berkeley%22+AND+%22Journalism%22+OR+%22Documentary%22+&oq=site%3Alinkedin.com%2Fin%2F+%22University+of+California%2C+Berkeley%22+AND+%22Journalism%22+OR+%22Documentary%22+&gs_lcp=CgZwc3ktYWIQA1DaDVjoGGCNHWgAcAB4AoAB5gKIAfgHkgEDMy0zmAEAoAEBqgEHZ3dzLXdpeg&sclient=psy-ab&ved=0ahUKEwiO3png7KHpAhULVN8KHdHVBuYQ4dUDCAk&uact=5&num=150#', 'https://www.google.com/search?q=related:https://www.linkedin.com/in/sarah-gray-isenberg-9a536666&tbo=1&sa=X&ved=2ahUKEwj1lPLj7KHpAhWlneAKHT_oD6IQHzBKegQIKhAG', 'https://www.linkedin.com/in/chowmay', 'https://www.google.com/search?source=hp&ei=_gu0Xo7nJ4uo_QbRq5uwDg&q=site%3Alinkedin.com%2Fin%2F+%22University+of+California%2C+Berkeley%22+AND+%22Journalism%22+OR+%22Documentary%22+&oq=site%3Alinkedin.com%2Fin%2F+%22University+of+California%2C+Berkeley%22+AND+%22Journalism%22+OR+%22Documentary%22+&gs_lcp=CgZwc3ktYWIQA1DaDVjoGGCNHWgAcAB4AoAB5gKIAfgHkgEDMy0zmAEAoAEBqgEHZ3dzLXdpeg&sclient=psy-ab&ved=0ahUKEwiO3png7KHpAhULVN8KHdHVBuYQ4dUDCAk&uact=5&num=150#', 'https://www.google.com/search?q=related:https://www.linkedin.com/in/chowmay&tbo=1&sa=X&ved=2ahUKEwj1lPLj7KHpAhWlneAKHT_oD6IQHzBLegQIKxAG', 'https://www.linkedin.com/in/vishakhagupta12', 'https://www.linkedin.com/in/tian-chenwei-198582124', 'https://www.linkedin.com/in/sroosblad', 'https://www.linkedin.com/in/susanjcohen', 'https://www.google.com/search?source=hp&ei=_gu0Xo7nJ4uo_QbRq5uwDg&q=site%3Alinkedin.com%2Fin%2F+%22University+of+California%2C+Berkeley%22+AND+%22Journalism%22+OR+%22Documentary%22+&oq=site%3Alinkedin.com%2Fin%2F+%22University+of+California%2C+Berkeley%22+AND+%22Journalism%22+OR+%22Documentary%22+&gs_lcp=CgZwc3ktYWIQA1DaDVjoGGCNHWgAcAB4AoAB5gKIAfgHkgEDMy0zmAEAoAEBqgEHZ3dzLXdpeg&sclient=psy-ab&ved=0ahUKEwiO3png7KHpAhULVN8KHdHVBuYQ4dUDCAk&uact=5&num=150#', 'https://www.google.com/search?q=related:https://www.linkedin.com/in/susanjcohen&tbo=1&sa=X&ved=2ahUKEwj1lPLj7KHpAhWlneAKHT_oD6IQHzBPegQIMBAG', 'https://www.linkedin.com/in/danielmcglynn', 'https://www.google.com/search?source=hp&ei=_gu0Xo7nJ4uo_QbRq5uwDg&q=site%3Alinkedin.com%2Fin%2F+%22University+of+California%2C+Berkeley%22+AND+%22Journalism%22+OR+%22Documentary%22+&oq=site%3Alinkedin.com%2Fin%2F+%22University+of+California%2C+Berkeley%22+AND+%22Journalism%22+OR+%22Documentary%22+&gs_lcp=CgZwc3ktYWIQA1DaDVjoGGCNHWgAcAB4AoAB5gKIAfgHkgEDMy0zmAEAoAEBqgEHZ3dzLXdpeg&sclient=psy-ab&ved=0ahUKEwiO3png7KHpAhULVN8KHdHVBuYQ4dUDCAk&uact=5&num=150#', 'https://www.google.com/search?q=related:https://www.linkedin.com/in/danielmcglynn&tbo=1&sa=X&ved=2ahUKEwj1lPLj7KHpAhWlneAKHT_oD6IQHzBQegQILxAG', 'https://www.linkedin.com/in/loialmeron', 'https://www.linkedin.com/in/lucas-guilkey', 'https://www.linkedin.com/in/jsasseen', 'https://www.google.com/search?source=hp&ei=_gu0Xo7nJ4uo_QbRq5uwDg&q=site%3Alinkedin.com%2Fin%2F+%22University+of+California%2C+Berkeley%22+AND+%22Journalism%22+OR+%22Documentary%22+&oq=site%3Alinkedin.com%2Fin%2F+%22University+of+California%2C+Berkeley%22+AND+%22Journalism%22+OR+%22Documentary%22+&gs_lcp=CgZwc3ktYWIQA1DaDVjoGGCNHWgAcAB4AoAB5gKIAfgHkgEDMy0zmAEAoAEBqgEHZ3dzLXdpeg&sclient=psy-ab&ved=0ahUKEwiO3png7KHpAhULVN8KHdHVBuYQ4dUDCAk&uact=5&num=150#', 'https://www.google.com/search?q=related:https://www.linkedin.com/in/jsasseen&tbo=1&sa=X&ved=2ahUKEwj1lPLj7KHpAhWlneAKHT_oD6IQHzBTegQIMxAG', 'https://www.linkedin.com/in/macarena-hern%C3%A1ndez-b3904055', 'https://www.google.com/search?source=hp&ei=_gu0Xo7nJ4uo_QbRq5uwDg&q=site%3Alinkedin.com%2Fin%2F+%22University+of+California%2C+Berkeley%22+AND+%22Journalism%22+OR+%22Documentary%22+&oq=site%3Alinkedin.com%2Fin%2F+%22University+of+California%2C+Berkeley%22+AND+%22Journalism%22+OR+%22Documentary%22+&gs_lcp=CgZwc3ktYWIQA1DaDVjoGGCNHWgAcAB4AoAB5gKIAfgHkgEDMy0zmAEAoAEBqgEHZ3dzLXdpeg&sclient=psy-ab&ved=0ahUKEwiO3png7KHpAhULVN8KHdHVBuYQ4dUDCAk&uact=5&num=150#', 'https://www.google.com/search?q=related:https://www.linkedin.com/in/macarena-hern%25C3%25A1ndez-b3904055&tbo=1&sa=X&ved=2ahUKEwj1lPLj7KHpAhWlneAKHT_oD6IQHzBUegQIMRAG', 'https://www.linkedin.com/in/jenniferbaires', 'https://sg.linkedin.com/in/sarahjaneng', 'https://www.linkedin.com/in/mickey-capper-43485833', 'https://www.google.com/search?source=hp&ei=_gu0Xo7nJ4uo_QbRq5uwDg&q=site%3Alinkedin.com%2Fin%2F+%22University+of+California%2C+Berkeley%22+AND+%22Journalism%22+OR+%22Documentary%22+&oq=site%3Alinkedin.com%2Fin%2F+%22University+of+California%2C+Berkeley%22+AND+%22Journalism%22+OR+%22Documentary%22+&gs_lcp=CgZwc3ktYWIQA1DaDVjoGGCNHWgAcAB4AoAB5gKIAfgHkgEDMy0zmAEAoAEBqgEHZ3dzLXdpeg&sclient=psy-ab&ved=0ahUKEwiO3png7KHpAhULVN8KHdHVBuYQ4dUDCAk&uact=5&num=150#', 'https://www.google.com/search?q=related:https://www.linkedin.com/in/mickey-capper-43485833&tbo=1&sa=X&ved=2ahUKEwj1lPLj7KHpAhWlneAKHT_oD6IQHzBXegQIJRAG', 'https://www.linkedin.com/in/christian-stork-a7207a13', 'https://www.google.com/search?source=hp&ei=_gu0Xo7nJ4uo_QbRq5uwDg&q=site%3Alinkedin.com%2Fin%2F+%22University+of+California%2C+Berkeley%22+AND+%22Journalism%22+OR+%22Documentary%22+&oq=site%3Alinkedin.com%2Fin%2F+%22University+of+California%2C+Berkeley%22+AND+%22Journalism%22+OR+%22Documentary%22+&gs_lcp=CgZwc3ktYWIQA1DaDVjoGGCNHWgAcAB4AoAB5gKIAfgHkgEDMy0zmAEAoAEBqgEHZ3dzLXdpeg&sclient=psy-ab&ved=0ahUKEwiO3png7KHpAhULVN8KHdHVBuYQ4dUDCAk&uact=5&num=150#', 'https://www.google.com/search?q=related:https://www.linkedin.com/in/christian-stork-a7207a13&tbo=1&sa=X&ved=2ahUKEwj1lPLj7KHpAhWlneAKHT_oD6IQHzBYegQIHhAG', 'https://www.linkedin.com/in/camille-servan-schreiber-5800335', 'https://www.google.com/search?source=hp&ei=_gu0Xo7nJ4uo_QbRq5uwDg&q=site%3Alinkedin.com%2Fin%2F+%22University+of+California%2C+Berkeley%22+AND+%22Journalism%22+OR+%22Documentary%22+&oq=site%3Alinkedin.com%2Fin%2F+%22University+of+California%2C+Berkeley%22+AND+%22Journalism%22+OR+%22Documentary%22+&gs_lcp=CgZwc3ktYWIQA1DaDVjoGGCNHWgAcAB4AoAB5gKIAfgHkgEDMy0zmAEAoAEBqgEHZ3dzLXdpeg&sclient=psy-ab&ved=0ahUKEwiO3png7KHpAhULVN8KHdHVBuYQ4dUDCAk&uact=5&num=150#', 'https://www.google.com/search?q=related:https://www.linkedin.com/in/camille-servan-schreiber-5800335&tbo=1&sa=X&ved=2ahUKEwj1lPLj7KHpAhWlneAKHT_oD6IQHzBZegQIAxAG', 'https://www.linkedin.com/in/laura-boghosian-84064211', 'https://www.linkedin.com/in/danielleparenteau', 'https://www.linkedin.com/in/laurelrosenhall', 'https://www.google.com/search?source=hp&ei=_gu0Xo7nJ4uo_QbRq5uwDg&q=site%3Alinkedin.com%2Fin%2F+%22University+of+California%2C+Berkeley%22+AND+%22Journalism%22+OR+%22Documentary%22+&oq=site%3Alinkedin.com%2Fin%2F+%22University+of+California%2C+Berkeley%22+AND+%22Journalism%22+OR+%22Documentary%22+&gs_lcp=CgZwc3ktYWIQA1DaDVjoGGCNHWgAcAB4AoAB5gKIAfgHkgEDMy0zmAEAoAEBqgEHZ3dzLXdpeg&sclient=psy-ab&ved=0ahUKEwiO3png7KHpAhULVN8KHdHVBuYQ4dUDCAk&uact=5&num=150#', 'https://www.google.com/search?q=related:https://www.linkedin.com/in/laurelrosenhall&tbo=1&sa=X&ved=2ahUKEwj1lPLj7KHpAhWlneAKHT_oD6IQHzBcegQIEBAG', 'https://www.linkedin.com/in/kiminsung', 'https://www.google.com/search?source=hp&ei=_gu0Xo7nJ4uo_QbRq5uwDg&q=site%3Alinkedin.com%2Fin%2F+%22University+of+California%2C+Berkeley%22+AND+%22Journalism%22+OR+%22Documentary%22+&oq=site%3Alinkedin.com%2Fin%2F+%22University+of+California%2C+Berkeley%22+AND+%22Journalism%22+OR+%22Documentary%22+&gs_lcp=CgZwc3ktYWIQA1DaDVjoGGCNHWgAcAB4AoAB5gKIAfgHkgEDMy0zmAEAoAEBqgEHZ3dzLXdpeg&sclient=psy-ab&ved=0ahUKEwiO3png7KHpAhULVN8KHdHVBuYQ4dUDCAk&uact=5&num=150#', 'https://www.google.com/search?q=related:https://www.linkedin.com/in/kiminsung&tbo=1&sa=X&ved=2ahUKEwj1lPLj7KHpAhWlneAKHT_oD6IQHzBdegQIDhAG', 'https://www.linkedin.com/in/samanthagrantwiesler', 'https://www.linkedin.com/in/mark-hansen-3b876424', 'https://www.google.com/search?source=hp&ei=_gu0Xo7nJ4uo_QbRq5uwDg&q=site%3Alinkedin.com%2Fin%2F+%22University+of+California%2C+Berkeley%22+AND+%22Journalism%22+OR+%22Documentary%22+&oq=site%3Alinkedin.com%2Fin%2F+%22University+of+California%2C+Berkeley%22+AND+%22Journalism%22+OR+%22Documentary%22+&gs_lcp=CgZwc3ktYWIQA1DaDVjoGGCNHWgAcAB4AoAB5gKIAfgHkgEDMy0zmAEAoAEBqgEHZ3dzLXdpeg&sclient=psy-ab&ved=0ahUKEwiO3png7KHpAhULVN8KHdHVBuYQ4dUDCAk&uact=5&num=150#', 'https://www.google.com/search?q=related:https://www.linkedin.com/in/mark-hansen-3b876424&tbo=1&sa=X&ved=2ahUKEwj1lPLj7KHpAhWlneAKHT_oD6IQHzBfegQICxAG', 'https://www.linkedin.com/in/salinanasir', 'https://www.google.com/search?source=hp&ei=_gu0Xo7nJ4uo_QbRq5uwDg&q=site%3Alinkedin.com%2Fin%2F+%22University+of+California%2C+Berkeley%22+AND+%22Journalism%22+OR+%22Documentary%22+&oq=site%3Alinkedin.com%2Fin%2F+%22University+of+California%2C+Berkeley%22+AND+%22Journalism%22+OR+%22Documentary%22+&gs_lcp=CgZwc3ktYWIQA1DaDVjoGGCNHWgAcAB4AoAB5gKIAfgHkgEDMy0zmAEAoAEBqgEHZ3dzLXdpeg&sclient=psy-ab&ved=0ahUKEwiO3png7KHpAhULVN8KHdHVBuYQ4dUDCAk&uact=5&num=150#', 'https://www.google.com/search?q=related:https://www.linkedin.com/in/salinanasir&tbo=1&sa=X&ved=2ahUKEwj1lPLj7KHpAhWlneAKHT_oD6IQHzBgegQIDxAG', 'https://www.linkedin.com/in/claramokri', 'https://www.linkedin.com/in/zo%C3%AB-ferrigno-00654715a', 'https://www.linkedin.com/in/jacob-shea-63570532']\n"
     ]
    }
   ],
   "source": [
    "print (linkedin_urls)"
   ]
  },
  {
   "cell_type": "code",
   "execution_count": 32,
   "metadata": {},
   "outputs": [],
   "source": [
    "linkedin_urls = [url for url in linkedin_urls]\n",
    "sleep(3)\n",
    "\n",
    "i = 0"
   ]
  },
  {
   "cell_type": "code",
   "execution_count": 33,
   "metadata": {},
   "outputs": [
    {
     "name": "stdout",
     "output_type": "stream",
     "text": [
      "\n",
      "\n",
      "Yue Li\n",
      "Visual Storyteller & Documentary Filmmaker at UC Berkeley Graduate School of Journalism\n",
      "\n",
      "      UndoDelete Media\n",
      "\n",
      "Founder\n",
      "\n",
      "https://www.linkedin.com/in/yue-li-187492b3/\n",
      "\n",
      "\n",
      "\n",
      "\n",
      "Eva Rendle\n",
      "Documentary Filmmaker. Journalist. National Geographic Explorer.\n",
      "\n",
      "      Freelance Video Professional\n",
      "        \n",
      "Documentary Filmmaker, Producer, and Editor\n",
      "\n",
      "https://www.linkedin.com/in/evarendle/\n",
      "\n",
      "\n",
      "\n",
      "\n",
      "Meghan Mariani\n",
      "Head Of Post Production at University of California, Berkeley\n",
      "\n",
      "      University of California, Berkeley\n",
      "\n",
      "Head of Post Production | “NAPA” Documentary\n",
      "\n",
      "https://www.linkedin.com/in/meghan-mariani-5bb670139/\n",
      "\n",
      "\n"
     ]
    },
    {
     "ename": "KeyboardInterrupt",
     "evalue": "",
     "output_type": "error",
     "traceback": [
      "\u001b[0;31m---------------------------------------------------------------------------\u001b[0m",
      "\u001b[0;31mKeyboardInterrupt\u001b[0m                         Traceback (most recent call last)",
      "\u001b[0;32m<ipython-input-33-233025988bff>\u001b[0m in \u001b[0;36m<module>\u001b[0;34m\u001b[0m\n\u001b[1;32m      1\u001b[0m \u001b[0;32mfor\u001b[0m \u001b[0mlinkedin_url\u001b[0m \u001b[0;32min\u001b[0m \u001b[0mlinkedin_urls\u001b[0m\u001b[0;34m:\u001b[0m\u001b[0;34m\u001b[0m\u001b[0;34m\u001b[0m\u001b[0m\n\u001b[1;32m      2\u001b[0m     \u001b[0mdriver\u001b[0m\u001b[0;34m.\u001b[0m\u001b[0mget\u001b[0m\u001b[0;34m(\u001b[0m\u001b[0mlinkedin_url\u001b[0m\u001b[0;34m)\u001b[0m\u001b[0;34m\u001b[0m\u001b[0;34m\u001b[0m\u001b[0m\n\u001b[0;32m----> 3\u001b[0;31m     \u001b[0msleep\u001b[0m\u001b[0;34m(\u001b[0m\u001b[0;36m7\u001b[0m\u001b[0;34m)\u001b[0m\u001b[0;34m\u001b[0m\u001b[0;34m\u001b[0m\u001b[0m\n\u001b[0m\u001b[1;32m      4\u001b[0m \u001b[0;34m\u001b[0m\u001b[0m\n\u001b[1;32m      5\u001b[0m     \u001b[0msel\u001b[0m \u001b[0;34m=\u001b[0m \u001b[0mSelector\u001b[0m\u001b[0;34m(\u001b[0m\u001b[0mtext\u001b[0m\u001b[0;34m=\u001b[0m\u001b[0mdriver\u001b[0m\u001b[0;34m.\u001b[0m\u001b[0mpage_source\u001b[0m\u001b[0;34m)\u001b[0m\u001b[0;34m\u001b[0m\u001b[0;34m\u001b[0m\u001b[0m\n",
      "\u001b[0;31mKeyboardInterrupt\u001b[0m: "
     ]
    }
   ],
   "source": [
    "for linkedin_url in linkedin_urls:\n",
    "    driver.get(linkedin_url)\n",
    "    sleep(7)\n",
    "    \n",
    "    sel = Selector(text=driver.page_source)\n",
    "    \n",
    "    print('\\n')\n",
    "    \n",
    "    name = sel.xpath('//*[starts-with(@class, \"inline t-24 t-black t-normal break-words\")]/text()').extract_first()\n",
    "    if name:\n",
    "        name = name.strip()\n",
    "    print(name)\n",
    "    \n",
    "    \n",
    "    job_title = sel.xpath('//*[starts-with(@class, \"mt1 t-18 t-black t-normal break-words\")]/text()').extract_first()\n",
    "    if job_title:\n",
    "        job_title = job_title.strip()\n",
    "    print(job_title)\n",
    "      \n",
    "        \n",
    "    if  sel.xpath('//*[starts-with(@class, \"pv-entity__secondary-title t-14 t-black t-normal\")]/text()').extract_first():\n",
    "        current_company = print(sel.xpath('//*[starts-with(@class, \"pv-entity__secondary-title t-14 t-black t-normal\")]/text()').extract_first())\n",
    "    elif sel.xpath('//*[starts-with(@class, \"t-16 t-black t-bold\")]/text()').extract_first():\n",
    "        current_company = print(sel.xpath('//*[starts-with(@class, \"t-16 t-black t-bold\")]/text()').extract_first())\n",
    "    elif sel.xpath('//*[starts-with(@class, \"pv-entity__summary-info pv-entity__summary-info--background-section\")]/text()').extract_first():\n",
    "        current_company = print(sel.xpath('//*[starts-with(@class, \"pv-entity__summary-info pv-entity__summary-info--background-section\")]/text()').extract_first())\n",
    "    else:\n",
    "        print('No Result')\n",
    "    \n",
    "    \n",
    "    if sel.xpath('//*[starts-with(@class, \"pv-entity__school-name t-16 t-black t-bold\")]/text()').extract_first():\n",
    "        school_attended = print(sel.xpath('//*[starts-with(@class, \"t-16 t-black t-bold\")]/text()').extract_first())\n",
    "    elif sel.xpath('//*[starts-with(@class, \"text-align-left ml2 t-14 t-black t-bold full-width lt-line-clamp lt-line-clamp--multi-line ember-view\")]/text()').extract_first():\n",
    "        school_attended = print(sel.xpath('//*[starts-with(@class, \"text-align-left ml2 t-14 t-black t-bold full-width lt-line-clamp lt-line-clamp--multi-line ember-view\")]/text()').extract_first())\n",
    "    else:\n",
    "        print('No Result')\n",
    "    \n",
    "    years_attended = sel.xpath('//*[starts-with(@class, \"pv-profile-section__list-item pv-education-entity pv-profile-section__card-item ember-view\")]/text()').extract_first()\n",
    "    if years_attended:\n",
    "            years_attended = years_attended.strip()\n",
    "    print(years_attended)\n",
    "        \n",
    "    \n",
    "    linkedin_url = driver.current_url\n",
    "    print(linkedin_url) \n",
    "    \n",
    "    print('\\n')\n",
    "    \n",
    "    name = validate_field(name)\n",
    "    job_title = validate_field(job_title)\n",
    "    current_company = validate_field(current_company)\n",
    "    school_attended = validate_field(school_attended)\n",
    "    years_attended = validate_field(years_attended)\n",
    "    linkedin_url = validate_field(linkedin_url)\n",
    "    \n",
    "    writer.writerow([name,\n",
    "                     job_title,\n",
    "                     current_company,\n",
    "                     school_attended,\n",
    "                     years_attended,\n",
    "                     linkedin_url]) "
   ]
  },
  {
   "cell_type": "code",
   "execution_count": null,
   "metadata": {},
   "outputs": [],
   "source": [
    "driver.quit()"
   ]
  }
 ],
 "metadata": {
  "kernelspec": {
   "display_name": "Python 3",
   "language": "python",
   "name": "python3"
  },
  "language_info": {
   "codemirror_mode": {
    "name": "ipython",
    "version": 3
   },
   "file_extension": ".py",
   "mimetype": "text/x-python",
   "name": "python",
   "nbconvert_exporter": "python",
   "pygments_lexer": "ipython3",
   "version": "3.7.3"
  }
 },
 "nbformat": 4,
 "nbformat_minor": 4
}
