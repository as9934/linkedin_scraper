{
 "cells": [
  {
   "cell_type": "code",
   "execution_count": 1,
   "metadata": {},
   "outputs": [],
   "source": [
    "from selenium import webdriver\n",
    "import parameters"
   ]
  },
  {
   "cell_type": "code",
   "execution_count": 2,
   "metadata": {},
   "outputs": [],
   "source": [
    "from time import sleep"
   ]
  },
  {
   "cell_type": "code",
   "execution_count": 3,
   "metadata": {},
   "outputs": [],
   "source": [
    "from selenium.webdriver.common.keys import Keys"
   ]
  },
  {
   "cell_type": "code",
   "execution_count": 4,
   "metadata": {},
   "outputs": [],
   "source": [
    "from parsel import Selector"
   ]
  },
  {
   "cell_type": "code",
   "execution_count": 5,
   "metadata": {},
   "outputs": [],
   "source": [
    "import csv"
   ]
  },
  {
   "cell_type": "code",
   "execution_count": 6,
   "metadata": {},
   "outputs": [],
   "source": [
    "def validate_field(field):\n",
    "    if field:\n",
    "        pass\n",
    "    else:\n",
    "        field = 'No results'\n",
    "    return field"
   ]
  },
  {
   "cell_type": "code",
   "execution_count": 7,
   "metadata": {},
   "outputs": [],
   "source": [
    "writer = csv.writer(open(parameters.file_name, 'w'))"
   ]
  },
  {
   "cell_type": "code",
   "execution_count": 8,
   "metadata": {},
   "outputs": [
    {
     "data": {
      "text/plain": [
       "67"
      ]
     },
     "execution_count": 8,
     "metadata": {},
     "output_type": "execute_result"
    }
   ],
   "source": [
    "writer.writerow(['Name','Job Title','Current Company','School Attended','Years Attended','URL'])"
   ]
  },
  {
   "cell_type": "code",
   "execution_count": 9,
   "metadata": {},
   "outputs": [],
   "source": [
    "driver = webdriver.Chrome('/Users/arijitsen/Downloads/chromedriver')\n",
    "driver.get('https://www.linkedin.com/login?fromSignIn=true&trk=guest_homepage-basic_nav-header-signin')"
   ]
  },
  {
   "cell_type": "code",
   "execution_count": 10,
   "metadata": {},
   "outputs": [],
   "source": [
    "username = driver.find_element_by_id('username')"
   ]
  },
  {
   "cell_type": "code",
   "execution_count": 11,
   "metadata": {},
   "outputs": [],
   "source": [
    "username.send_keys(parameters.linkedin_username)"
   ]
  },
  {
   "cell_type": "code",
   "execution_count": 12,
   "metadata": {},
   "outputs": [],
   "source": [
    "sleep(0.5)"
   ]
  },
  {
   "cell_type": "code",
   "execution_count": 13,
   "metadata": {},
   "outputs": [],
   "source": [
    "password = driver.find_element_by_id('password')"
   ]
  },
  {
   "cell_type": "code",
   "execution_count": 14,
   "metadata": {},
   "outputs": [],
   "source": [
    "password.send_keys(parameters.linkedin_password)"
   ]
  },
  {
   "cell_type": "code",
   "execution_count": 15,
   "metadata": {},
   "outputs": [],
   "source": [
    "sleep(0.5)"
   ]
  },
  {
   "cell_type": "code",
   "execution_count": 16,
   "metadata": {},
   "outputs": [],
   "source": [
    "log_in_button = driver.find_element_by_class_name('btn__primary--large.from__button--floating') "
   ]
  },
  {
   "cell_type": "code",
   "execution_count": 17,
   "metadata": {},
   "outputs": [],
   "source": [
    "log_in_button.click()"
   ]
  },
  {
   "cell_type": "code",
   "execution_count": 18,
   "metadata": {},
   "outputs": [],
   "source": [
    "sleep(0.5)"
   ]
  },
  {
   "cell_type": "code",
   "execution_count": 19,
   "metadata": {},
   "outputs": [],
   "source": [
    "driver.get('https://www.google.com/')"
   ]
  },
  {
   "cell_type": "code",
   "execution_count": 20,
   "metadata": {},
   "outputs": [],
   "source": [
    "sleep(1)"
   ]
  },
  {
   "cell_type": "code",
   "execution_count": 21,
   "metadata": {},
   "outputs": [],
   "source": [
    "search_query = driver.find_element_by_name('q')"
   ]
  },
  {
   "cell_type": "code",
   "execution_count": 22,
   "metadata": {},
   "outputs": [],
   "source": [
    "search_query.send_keys('site:linkedin.com/in/ \"University of California, Berkeley\" AND \"Journalism\" OR \"Documentary\" ')"
   ]
  },
  {
   "cell_type": "code",
   "execution_count": 23,
   "metadata": {},
   "outputs": [],
   "source": [
    "sleep(0.5)"
   ]
  },
  {
   "cell_type": "code",
   "execution_count": 24,
   "metadata": {},
   "outputs": [],
   "source": [
    "search_query.send_keys(Keys.RETURN)"
   ]
  },
  {
   "cell_type": "code",
   "execution_count": 25,
   "metadata": {},
   "outputs": [],
   "source": [
    "sleep(1)"
   ]
  },
  {
   "cell_type": "code",
   "execution_count": 26,
   "metadata": {},
   "outputs": [],
   "source": [
    "more_results = driver.current_url + '&num=200'"
   ]
  },
  {
   "cell_type": "code",
   "execution_count": 27,
   "metadata": {},
   "outputs": [],
   "source": [
    "driver.get(more_results)"
   ]
  },
  {
   "cell_type": "code",
   "execution_count": 28,
   "metadata": {},
   "outputs": [],
   "source": [
    "linkedin_urls = []"
   ]
  },
  {
   "cell_type": "code",
   "execution_count": 29,
   "metadata": {},
   "outputs": [],
   "source": [
    "content_blocks = driver.find_elements_by_class_name(\"r\")\n",
    "\n",
    "for block in content_blocks:\n",
    "    elements = block.find_elements_by_tag_name(\"a\")\n",
    "    for el in elements:\n",
    "        linkedin_urls.append(el.get_attribute(\"href\"))"
   ]
  },
  {
   "cell_type": "code",
   "execution_count": 30,
   "metadata": {},
   "outputs": [
    {
     "name": "stdout",
     "output_type": "stream",
     "text": [
      "['https://www.linkedin.com/in/vishakhagupta12', 'https://www.linkedin.com/in/berkeleyjschool', 'https://www.google.com/search?source=hp&ei=QwVyX6TUAsyGsAXwrZqoAw&q=site%3Alinkedin.com%2Fin%2F+%22University+of+California%2C+Berkeley%22+AND+%22Journalism%22+OR+%22Documentary%22+&oq=site%3Alinkedin.com%2Fin%2F+%22University+of+California%2C+Berkeley%22+AND+%22Journalism%22+OR+%22Documentary%22+&gs_lcp=CgZwc3ktYWIQA1CSGFihGWDTLWgAcAB4AoAB-QOIAdgPkgEFNC0xLjOYAQCgAQGqAQdnd3Mtd2l6&sclient=psy-ab&ved=0ahUKEwjkgamGmYzsAhVMA6wKHfCWBjUQ4dUDCAk&uact=5&num=200#', 'https://www.google.com/search?q=related:https://www.linkedin.com/in/berkeleyjschool&sa=X&ved=2ahUKEwiv1PCMmYzsAhVLb60KHe8OBA8QHzABegQIOhAG', 'https://www.linkedin.com/in/betsyrate', 'https://www.google.com/search?source=hp&ei=QwVyX6TUAsyGsAXwrZqoAw&q=site%3Alinkedin.com%2Fin%2F+%22University+of+California%2C+Berkeley%22+AND+%22Journalism%22+OR+%22Documentary%22+&oq=site%3Alinkedin.com%2Fin%2F+%22University+of+California%2C+Berkeley%22+AND+%22Journalism%22+OR+%22Documentary%22+&gs_lcp=CgZwc3ktYWIQA1CSGFihGWDTLWgAcAB4AoAB-QOIAdgPkgEFNC0xLjOYAQCgAQGqAQdnd3Mtd2l6&sclient=psy-ab&ved=0ahUKEwjkgamGmYzsAhVMA6wKHfCWBjUQ4dUDCAk&uact=5&num=200#', 'https://www.google.com/search?q=related:https://www.linkedin.com/in/betsyrate&sa=X&ved=2ahUKEwiv1PCMmYzsAhVLb60KHe8OBA8QHzACegQINxAG', 'https://www.linkedin.com/in/tian-chenwei-198582124', 'https://www.linkedin.com/in/carrie-lozano-documentary', 'https://www.linkedin.com/in/yue-li-187492b3', 'https://www.linkedin.com/in/vickihammarstedt', 'https://www.google.com/search?source=hp&ei=QwVyX6TUAsyGsAXwrZqoAw&q=site%3Alinkedin.com%2Fin%2F+%22University+of+California%2C+Berkeley%22+AND+%22Journalism%22+OR+%22Documentary%22+&oq=site%3Alinkedin.com%2Fin%2F+%22University+of+California%2C+Berkeley%22+AND+%22Journalism%22+OR+%22Documentary%22+&gs_lcp=CgZwc3ktYWIQA1CSGFihGWDTLWgAcAB4AoAB-QOIAdgPkgEFNC0xLjOYAQCgAQGqAQdnd3Mtd2l6&sclient=psy-ab&ved=0ahUKEwjkgamGmYzsAhVMA6wKHfCWBjUQ4dUDCAk&uact=5&num=200#', 'https://www.google.com/search?q=related:https://www.linkedin.com/in/vickihammarstedt&sa=X&ved=2ahUKEwiv1PCMmYzsAhVLb60KHe8OBA8QHzAGegQIPxAG', 'https://www.linkedin.com/in/edwardwasserman', 'https://www.google.com/search?source=hp&ei=QwVyX6TUAsyGsAXwrZqoAw&q=site%3Alinkedin.com%2Fin%2F+%22University+of+California%2C+Berkeley%22+AND+%22Journalism%22+OR+%22Documentary%22+&oq=site%3Alinkedin.com%2Fin%2F+%22University+of+California%2C+Berkeley%22+AND+%22Journalism%22+OR+%22Documentary%22+&gs_lcp=CgZwc3ktYWIQA1CSGFihGWDTLWgAcAB4AoAB-QOIAdgPkgEFNC0xLjOYAQCgAQGqAQdnd3Mtd2l6&sclient=psy-ab&ved=0ahUKEwjkgamGmYzsAhVMA6wKHfCWBjUQ4dUDCAk&uact=5&num=200#', 'https://www.google.com/search?q=related:https://www.linkedin.com/in/edwardwasserman&sa=X&ved=2ahUKEwiv1PCMmYzsAhVLb60KHe8OBA8QHzAHegQIQRAG', 'https://www.linkedin.com/in/sam-goldman-152182ab', 'https://www.linkedin.com/in/abi-speers-958795112', 'https://www.linkedin.com/in/andr%C3%A9s-cediel-7374a57b', 'https://www.linkedin.com/in/aynur-sadet-3095a960', 'https://www.google.com/search?source=hp&ei=QwVyX6TUAsyGsAXwrZqoAw&q=site%3Alinkedin.com%2Fin%2F+%22University+of+California%2C+Berkeley%22+AND+%22Journalism%22+OR+%22Documentary%22+&oq=site%3Alinkedin.com%2Fin%2F+%22University+of+California%2C+Berkeley%22+AND+%22Journalism%22+OR+%22Documentary%22+&gs_lcp=CgZwc3ktYWIQA1CSGFihGWDTLWgAcAB4AoAB-QOIAdgPkgEFNC0xLjOYAQCgAQGqAQdnd3Mtd2l6&sclient=psy-ab&ved=0ahUKEwjkgamGmYzsAhVMA6wKHfCWBjUQ4dUDCAk&uact=5&num=200#', 'https://www.google.com/search?q=related:https://www.linkedin.com/in/aynur-sadet-3095a960&sa=X&ved=2ahUKEwiv1PCMmYzsAhVLb60KHe8OBA8QHzALegQISBAG', 'https://www.linkedin.com/in/emily-thomas-07ba4310', 'https://www.google.com/search?source=hp&ei=QwVyX6TUAsyGsAXwrZqoAw&q=site%3Alinkedin.com%2Fin%2F+%22University+of+California%2C+Berkeley%22+AND+%22Journalism%22+OR+%22Documentary%22+&oq=site%3Alinkedin.com%2Fin%2F+%22University+of+California%2C+Berkeley%22+AND+%22Journalism%22+OR+%22Documentary%22+&gs_lcp=CgZwc3ktYWIQA1CSGFihGWDTLWgAcAB4AoAB-QOIAdgPkgEFNC0xLjOYAQCgAQGqAQdnd3Mtd2l6&sclient=psy-ab&ved=0ahUKEwjkgamGmYzsAhVMA6wKHfCWBjUQ4dUDCAk&uact=5&num=200#', 'https://www.google.com/search?q=related:https://www.linkedin.com/in/emily-thomas-07ba4310&sa=X&ved=2ahUKEwiv1PCMmYzsAhVLb60KHe8OBA8QHzAMegQISRAG', 'https://www.linkedin.com/in/skylerglover', 'https://www.linkedin.com/in/david-e-thigpen-b7336b5', 'https://www.google.com/search?source=hp&ei=QwVyX6TUAsyGsAXwrZqoAw&q=site%3Alinkedin.com%2Fin%2F+%22University+of+California%2C+Berkeley%22+AND+%22Journalism%22+OR+%22Documentary%22+&oq=site%3Alinkedin.com%2Fin%2F+%22University+of+California%2C+Berkeley%22+AND+%22Journalism%22+OR+%22Documentary%22+&gs_lcp=CgZwc3ktYWIQA1CSGFihGWDTLWgAcAB4AoAB-QOIAdgPkgEFNC0xLjOYAQCgAQGqAQdnd3Mtd2l6&sclient=psy-ab&ved=0ahUKEwjkgamGmYzsAhVMA6wKHfCWBjUQ4dUDCAk&uact=5&num=200#', 'https://www.google.com/search?q=related:https://www.linkedin.com/in/david-e-thigpen-b7336b5&sa=X&ved=2ahUKEwiv1PCMmYzsAhVLb60KHe8OBA8QHzAOegQITBAG', 'https://www.linkedin.com/in/grace-oyenubi-089ab110b', 'https://www.linkedin.com/in/yinuoshi', 'https://www.linkedin.com/in/lucas-guilkey', 'https://www.linkedin.com/in/jeff-rhode-4825b271', 'https://www.google.com/search?source=hp&ei=QwVyX6TUAsyGsAXwrZqoAw&q=site%3Alinkedin.com%2Fin%2F+%22University+of+California%2C+Berkeley%22+AND+%22Journalism%22+OR+%22Documentary%22+&oq=site%3Alinkedin.com%2Fin%2F+%22University+of+California%2C+Berkeley%22+AND+%22Journalism%22+OR+%22Documentary%22+&gs_lcp=CgZwc3ktYWIQA1CSGFihGWDTLWgAcAB4AoAB-QOIAdgPkgEFNC0xLjOYAQCgAQGqAQdnd3Mtd2l6&sclient=psy-ab&ved=0ahUKEwjkgamGmYzsAhVMA6wKHfCWBjUQ4dUDCAk&uact=5&num=200#', 'https://www.google.com/search?q=related:https://www.linkedin.com/in/jeff-rhode-4825b271&sa=X&ved=2ahUKEwiv1PCMmYzsAhVLb60KHe8OBA8QHzASegQIVhAG', 'https://www.linkedin.com/in/erik-neumann-162b3827', 'https://www.google.com/search?source=hp&ei=QwVyX6TUAsyGsAXwrZqoAw&q=site%3Alinkedin.com%2Fin%2F+%22University+of+California%2C+Berkeley%22+AND+%22Journalism%22+OR+%22Documentary%22+&oq=site%3Alinkedin.com%2Fin%2F+%22University+of+California%2C+Berkeley%22+AND+%22Journalism%22+OR+%22Documentary%22+&gs_lcp=CgZwc3ktYWIQA1CSGFihGWDTLWgAcAB4AoAB-QOIAdgPkgEFNC0xLjOYAQCgAQGqAQdnd3Mtd2l6&sclient=psy-ab&ved=0ahUKEwjkgamGmYzsAhVMA6wKHfCWBjUQ4dUDCAk&uact=5&num=200#', 'https://www.google.com/search?q=related:https://www.linkedin.com/in/erik-neumann-162b3827&sa=X&ved=2ahUKEwiv1PCMmYzsAhVLb60KHe8OBA8QHzATegQIVxAG', 'https://www.linkedin.com/in/theresa-adams-54ab169', 'https://www.linkedin.com/in/yutaochen95', 'https://www.linkedin.com/in/christianleecollins', 'https://www.linkedin.com/in/peterswanderings', 'https://www.google.com/search?source=hp&ei=QwVyX6TUAsyGsAXwrZqoAw&q=site%3Alinkedin.com%2Fin%2F+%22University+of+California%2C+Berkeley%22+AND+%22Journalism%22+OR+%22Documentary%22+&oq=site%3Alinkedin.com%2Fin%2F+%22University+of+California%2C+Berkeley%22+AND+%22Journalism%22+OR+%22Documentary%22+&gs_lcp=CgZwc3ktYWIQA1CSGFihGWDTLWgAcAB4AoAB-QOIAdgPkgEFNC0xLjOYAQCgAQGqAQdnd3Mtd2l6&sclient=psy-ab&ved=0ahUKEwjkgamGmYzsAhVMA6wKHfCWBjUQ4dUDCAk&uact=5&num=200#', 'https://www.google.com/search?q=related:https://www.linkedin.com/in/peterswanderings&sa=X&ved=2ahUKEwiv1PCMmYzsAhVLb60KHe8OBA8QHzAXegQIXhAG', 'https://www.linkedin.com/in/kliu19', 'https://www.linkedin.com/in/brett-marsh-5b378625', 'https://www.linkedin.com/in/bret-sigler-ba48ba5', 'https://www.linkedin.com/in/rashabazz', 'https://www.google.com/search?source=hp&ei=QwVyX6TUAsyGsAXwrZqoAw&q=site%3Alinkedin.com%2Fin%2F+%22University+of+California%2C+Berkeley%22+AND+%22Journalism%22+OR+%22Documentary%22+&oq=site%3Alinkedin.com%2Fin%2F+%22University+of+California%2C+Berkeley%22+AND+%22Journalism%22+OR+%22Documentary%22+&gs_lcp=CgZwc3ktYWIQA1CSGFihGWDTLWgAcAB4AoAB-QOIAdgPkgEFNC0xLjOYAQCgAQGqAQdnd3Mtd2l6&sclient=psy-ab&ved=0ahUKEwjkgamGmYzsAhVMA6wKHfCWBjUQ4dUDCAk&uact=5&num=200#', 'https://www.google.com/search?q=related:https://www.linkedin.com/in/rashabazz&sa=X&ved=2ahUKEwiv1PCMmYzsAhVLb60KHe8OBA8QHzAbegQIYhAG', 'https://www.linkedin.com/in/yvette-wojciechowski', 'https://www.linkedin.com/in/mike-shen-221210b', 'https://www.google.com/search?source=hp&ei=QwVyX6TUAsyGsAXwrZqoAw&q=site%3Alinkedin.com%2Fin%2F+%22University+of+California%2C+Berkeley%22+AND+%22Journalism%22+OR+%22Documentary%22+&oq=site%3Alinkedin.com%2Fin%2F+%22University+of+California%2C+Berkeley%22+AND+%22Journalism%22+OR+%22Documentary%22+&gs_lcp=CgZwc3ktYWIQA1CSGFihGWDTLWgAcAB4AoAB-QOIAdgPkgEFNC0xLjOYAQCgAQGqAQdnd3Mtd2l6&sclient=psy-ab&ved=0ahUKEwjkgamGmYzsAhVMA6wKHfCWBjUQ4dUDCAk&uact=5&num=200#', 'https://www.google.com/search?q=related:https://www.linkedin.com/in/mike-shen-221210b&sa=X&ved=2ahUKEwiv1PCMmYzsAhVLb60KHe8OBA8QHzAdegQIYxAG', 'https://www.linkedin.com/in/meganbergeron19', 'https://www.linkedin.com/in/julia-kane-aa47a5172', 'https://www.linkedin.com/in/lulu-orozco-a00ab159', 'https://www.google.com/search?source=hp&ei=QwVyX6TUAsyGsAXwrZqoAw&q=site%3Alinkedin.com%2Fin%2F+%22University+of+California%2C+Berkeley%22+AND+%22Journalism%22+OR+%22Documentary%22+&oq=site%3Alinkedin.com%2Fin%2F+%22University+of+California%2C+Berkeley%22+AND+%22Journalism%22+OR+%22Documentary%22+&gs_lcp=CgZwc3ktYWIQA1CSGFihGWDTLWgAcAB4AoAB-QOIAdgPkgEFNC0xLjOYAQCgAQGqAQdnd3Mtd2l6&sclient=psy-ab&ved=0ahUKEwjkgamGmYzsAhVMA6wKHfCWBjUQ4dUDCAk&uact=5&num=200#', 'https://www.google.com/search?q=related:https://www.linkedin.com/in/lulu-orozco-a00ab159&sa=X&ved=2ahUKEwiv1PCMmYzsAhVLb60KHe8OBA8QHzAgegQISxAG', 'https://www.linkedin.com/in/luisaconlon', 'https://www.google.com/search?source=hp&ei=QwVyX6TUAsyGsAXwrZqoAw&q=site%3Alinkedin.com%2Fin%2F+%22University+of+California%2C+Berkeley%22+AND+%22Journalism%22+OR+%22Documentary%22+&oq=site%3Alinkedin.com%2Fin%2F+%22University+of+California%2C+Berkeley%22+AND+%22Journalism%22+OR+%22Documentary%22+&gs_lcp=CgZwc3ktYWIQA1CSGFihGWDTLWgAcAB4AoAB-QOIAdgPkgEFNC0xLjOYAQCgAQGqAQdnd3Mtd2l6&sclient=psy-ab&ved=0ahUKEwjkgamGmYzsAhVMA6wKHfCWBjUQ4dUDCAk&uact=5&num=200#', 'https://www.google.com/search?q=related:https://www.linkedin.com/in/luisaconlon&sa=X&ved=2ahUKEwiv1PCMmYzsAhVLb60KHe8OBA8QHzAhegQIXRAG', 'https://www.linkedin.com/in/gisela-perez-de-acha', 'https://www.linkedin.com/in/annette-ledoux-garcia-58423940', 'https://www.google.com/search?source=hp&ei=QwVyX6TUAsyGsAXwrZqoAw&q=site%3Alinkedin.com%2Fin%2F+%22University+of+California%2C+Berkeley%22+AND+%22Journalism%22+OR+%22Documentary%22+&oq=site%3Alinkedin.com%2Fin%2F+%22University+of+California%2C+Berkeley%22+AND+%22Journalism%22+OR+%22Documentary%22+&gs_lcp=CgZwc3ktYWIQA1CSGFihGWDTLWgAcAB4AoAB-QOIAdgPkgEFNC0xLjOYAQCgAQGqAQdnd3Mtd2l6&sclient=psy-ab&ved=0ahUKEwjkgamGmYzsAhVMA6wKHfCWBjUQ4dUDCAk&uact=5&num=200#', 'https://www.google.com/search?q=related:https://www.linkedin.com/in/annette-ledoux-garcia-58423940&sa=X&ved=2ahUKEwiv1PCMmYzsAhVLb60KHe8OBA8QHzAjegQIWBAG', 'https://www.linkedin.com/in/cassandraherrman', 'https://www.linkedin.com/in/emilymariegibson', 'https://www.google.com/search?source=hp&ei=QwVyX6TUAsyGsAXwrZqoAw&q=site%3Alinkedin.com%2Fin%2F+%22University+of+California%2C+Berkeley%22+AND+%22Journalism%22+OR+%22Documentary%22+&oq=site%3Alinkedin.com%2Fin%2F+%22University+of+California%2C+Berkeley%22+AND+%22Journalism%22+OR+%22Documentary%22+&gs_lcp=CgZwc3ktYWIQA1CSGFihGWDTLWgAcAB4AoAB-QOIAdgPkgEFNC0xLjOYAQCgAQGqAQdnd3Mtd2l6&sclient=psy-ab&ved=0ahUKEwjkgamGmYzsAhVMA6wKHfCWBjUQ4dUDCAk&uact=5&num=200#', 'https://www.google.com/search?q=related:https://www.linkedin.com/in/emilymariegibson&sa=X&ved=2ahUKEwiv1PCMmYzsAhVLb60KHe8OBA8QHzAlegQIURAG', 'https://www.linkedin.com/in/sydney-segal', 'https://www.linkedin.com/in/sroosblad', 'https://www.linkedin.com/in/claremajor', 'https://www.google.com/search?source=hp&ei=QwVyX6TUAsyGsAXwrZqoAw&q=site%3Alinkedin.com%2Fin%2F+%22University+of+California%2C+Berkeley%22+AND+%22Journalism%22+OR+%22Documentary%22+&oq=site%3Alinkedin.com%2Fin%2F+%22University+of+California%2C+Berkeley%22+AND+%22Journalism%22+OR+%22Documentary%22+&gs_lcp=CgZwc3ktYWIQA1CSGFihGWDTLWgAcAB4AoAB-QOIAdgPkgEFNC0xLjOYAQCgAQGqAQdnd3Mtd2l6&sclient=psy-ab&ved=0ahUKEwjkgamGmYzsAhVMA6wKHfCWBjUQ4dUDCAk&uact=5&num=200#', 'https://www.google.com/search?q=related:https://www.linkedin.com/in/claremajor&sa=X&ved=2ahUKEwiv1PCMmYzsAhVLb60KHe8OBA8QHzAoegQIQBAG', 'https://www.linkedin.com/in/lauren-kawana-a2449b10', 'https://www.google.com/search?source=hp&ei=QwVyX6TUAsyGsAXwrZqoAw&q=site%3Alinkedin.com%2Fin%2F+%22University+of+California%2C+Berkeley%22+AND+%22Journalism%22+OR+%22Documentary%22+&oq=site%3Alinkedin.com%2Fin%2F+%22University+of+California%2C+Berkeley%22+AND+%22Journalism%22+OR+%22Documentary%22+&gs_lcp=CgZwc3ktYWIQA1CSGFihGWDTLWgAcAB4AoAB-QOIAdgPkgEFNC0xLjOYAQCgAQGqAQdnd3Mtd2l6&sclient=psy-ab&ved=0ahUKEwjkgamGmYzsAhVMA6wKHfCWBjUQ4dUDCAk&uact=5&num=200#', 'https://www.google.com/search?q=related:https://www.linkedin.com/in/lauren-kawana-a2449b10&sa=X&ved=2ahUKEwiv1PCMmYzsAhVLb60KHe8OBA8QHzApegQIRxAG', 'https://www.linkedin.com/in/marco-torrez-874413166', 'https://www.linkedin.com/in/patrick-cox-7722b44', 'https://www.google.com/search?source=hp&ei=QwVyX6TUAsyGsAXwrZqoAw&q=site%3Alinkedin.com%2Fin%2F+%22University+of+California%2C+Berkeley%22+AND+%22Journalism%22+OR+%22Documentary%22+&oq=site%3Alinkedin.com%2Fin%2F+%22University+of+California%2C+Berkeley%22+AND+%22Journalism%22+OR+%22Documentary%22+&gs_lcp=CgZwc3ktYWIQA1CSGFihGWDTLWgAcAB4AoAB-QOIAdgPkgEFNC0xLjOYAQCgAQGqAQdnd3Mtd2l6&sclient=psy-ab&ved=0ahUKEwjkgamGmYzsAhVMA6wKHfCWBjUQ4dUDCAk&uact=5&num=200#', 'https://www.google.com/search?q=related:https://www.linkedin.com/in/patrick-cox-7722b44&sa=X&ved=2ahUKEwiv1PCMmYzsAhVLb60KHe8OBA8QHzAregQIQhAG', 'https://www.linkedin.com/in/pamela-gleason-0969775', 'https://www.google.com/search?source=hp&ei=QwVyX6TUAsyGsAXwrZqoAw&q=site%3Alinkedin.com%2Fin%2F+%22University+of+California%2C+Berkeley%22+AND+%22Journalism%22+OR+%22Documentary%22+&oq=site%3Alinkedin.com%2Fin%2F+%22University+of+California%2C+Berkeley%22+AND+%22Journalism%22+OR+%22Documentary%22+&gs_lcp=CgZwc3ktYWIQA1CSGFihGWDTLWgAcAB4AoAB-QOIAdgPkgEFNC0xLjOYAQCgAQGqAQdnd3Mtd2l6&sclient=psy-ab&ved=0ahUKEwjkgamGmYzsAhVMA6wKHfCWBjUQ4dUDCAk&uact=5&num=200#', 'https://www.google.com/search?q=related:https://www.linkedin.com/in/pamela-gleason-0969775&sa=X&ved=2ahUKEwiv1PCMmYzsAhVLb60KHe8OBA8QHzAsegQIPhAG', 'https://www.linkedin.com/in/michael-milano-7672976a', 'https://www.google.com/search?source=hp&ei=QwVyX6TUAsyGsAXwrZqoAw&q=site%3Alinkedin.com%2Fin%2F+%22University+of+California%2C+Berkeley%22+AND+%22Journalism%22+OR+%22Documentary%22+&oq=site%3Alinkedin.com%2Fin%2F+%22University+of+California%2C+Berkeley%22+AND+%22Journalism%22+OR+%22Documentary%22+&gs_lcp=CgZwc3ktYWIQA1CSGFihGWDTLWgAcAB4AoAB-QOIAdgPkgEFNC0xLjOYAQCgAQGqAQdnd3Mtd2l6&sclient=psy-ab&ved=0ahUKEwjkgamGmYzsAhVMA6wKHfCWBjUQ4dUDCAk&uact=5&num=200#', 'https://www.google.com/search?q=related:https://www.linkedin.com/in/michael-milano-7672976a&sa=X&ved=2ahUKEwiv1PCMmYzsAhVLb60KHe8OBA8QHzAtegQIPRAG', 'https://www.linkedin.com/in/alexa-hornbeck-785ba694', 'https://www.google.com/search?source=hp&ei=QwVyX6TUAsyGsAXwrZqoAw&q=site%3Alinkedin.com%2Fin%2F+%22University+of+California%2C+Berkeley%22+AND+%22Journalism%22+OR+%22Documentary%22+&oq=site%3Alinkedin.com%2Fin%2F+%22University+of+California%2C+Berkeley%22+AND+%22Journalism%22+OR+%22Documentary%22+&gs_lcp=CgZwc3ktYWIQA1CSGFihGWDTLWgAcAB4AoAB-QOIAdgPkgEFNC0xLjOYAQCgAQGqAQdnd3Mtd2l6&sclient=psy-ab&ved=0ahUKEwjkgamGmYzsAhVMA6wKHfCWBjUQ4dUDCAk&uact=5&num=200#', 'https://www.google.com/search?q=related:https://www.linkedin.com/in/alexa-hornbeck-785ba694&sa=X&ved=2ahUKEwiv1PCMmYzsAhVLb60KHe8OBA8QHzAuegQIOxAG', 'https://www.linkedin.com/in/francesca-fenzi-93692648', 'https://www.linkedin.com/in/patricia-lahay-ba459a20', 'https://www.linkedin.com/in/jsasseen', 'https://www.google.com/search?source=hp&ei=QwVyX6TUAsyGsAXwrZqoAw&q=site%3Alinkedin.com%2Fin%2F+%22University+of+California%2C+Berkeley%22+AND+%22Journalism%22+OR+%22Documentary%22+&oq=site%3Alinkedin.com%2Fin%2F+%22University+of+California%2C+Berkeley%22+AND+%22Journalism%22+OR+%22Documentary%22+&gs_lcp=CgZwc3ktYWIQA1CSGFihGWDTLWgAcAB4AoAB-QOIAdgPkgEFNC0xLjOYAQCgAQGqAQdnd3Mtd2l6&sclient=psy-ab&ved=0ahUKEwjkgamGmYzsAhVMA6wKHfCWBjUQ4dUDCAk&uact=5&num=200#', 'https://www.google.com/search?q=related:https://www.linkedin.com/in/jsasseen&sa=X&ved=2ahUKEwiv1PCMmYzsAhVLb60KHe8OBA8QHzAxegQIBhAG', 'https://www.linkedin.com/in/linda-schacht-a9b3984', 'https://www.google.com/search?source=hp&ei=QwVyX6TUAsyGsAXwrZqoAw&q=site%3Alinkedin.com%2Fin%2F+%22University+of+California%2C+Berkeley%22+AND+%22Journalism%22+OR+%22Documentary%22+&oq=site%3Alinkedin.com%2Fin%2F+%22University+of+California%2C+Berkeley%22+AND+%22Journalism%22+OR+%22Documentary%22+&gs_lcp=CgZwc3ktYWIQA1CSGFihGWDTLWgAcAB4AoAB-QOIAdgPkgEFNC0xLjOYAQCgAQGqAQdnd3Mtd2l6&sclient=psy-ab&ved=0ahUKEwjkgamGmYzsAhVMA6wKHfCWBjUQ4dUDCAk&uact=5&num=200#', 'https://www.google.com/search?q=related:https://www.linkedin.com/in/linda-schacht-a9b3984&sa=X&ved=2ahUKEwiv1PCMmYzsAhVLb60KHe8OBA8QHzAyegQICBAG', 'https://www.linkedin.com/in/kristina-motwani-871367b', 'https://www.google.com/search?source=hp&ei=QwVyX6TUAsyGsAXwrZqoAw&q=site%3Alinkedin.com%2Fin%2F+%22University+of+California%2C+Berkeley%22+AND+%22Journalism%22+OR+%22Documentary%22+&oq=site%3Alinkedin.com%2Fin%2F+%22University+of+California%2C+Berkeley%22+AND+%22Journalism%22+OR+%22Documentary%22+&gs_lcp=CgZwc3ktYWIQA1CSGFihGWDTLWgAcAB4AoAB-QOIAdgPkgEFNC0xLjOYAQCgAQGqAQdnd3Mtd2l6&sclient=psy-ab&ved=0ahUKEwjkgamGmYzsAhVMA6wKHfCWBjUQ4dUDCAk&uact=5&num=200#', 'https://www.google.com/search?q=related:https://www.linkedin.com/in/kristina-motwani-871367b&sa=X&ved=2ahUKEwiv1PCMmYzsAhVLb60KHe8OBA8QHzAzegQIDhAG', 'https://www.linkedin.com/in/timmcgirk', 'https://www.google.com/search?source=hp&ei=QwVyX6TUAsyGsAXwrZqoAw&q=site%3Alinkedin.com%2Fin%2F+%22University+of+California%2C+Berkeley%22+AND+%22Journalism%22+OR+%22Documentary%22+&oq=site%3Alinkedin.com%2Fin%2F+%22University+of+California%2C+Berkeley%22+AND+%22Journalism%22+OR+%22Documentary%22+&gs_lcp=CgZwc3ktYWIQA1CSGFihGWDTLWgAcAB4AoAB-QOIAdgPkgEFNC0xLjOYAQCgAQGqAQdnd3Mtd2l6&sclient=psy-ab&ved=0ahUKEwjkgamGmYzsAhVMA6wKHfCWBjUQ4dUDCAk&uact=5&num=200#', 'https://www.google.com/search?q=related:https://www.linkedin.com/in/timmcgirk&sa=X&ved=2ahUKEwiv1PCMmYzsAhVLb60KHe8OBA8QHzA0egQIEhAG', 'https://www.linkedin.com/in/samanthagrantwiesler', 'https://www.linkedin.com/in/daniel-lempres', 'https://www.linkedin.com/in/marksluckie', 'https://www.google.com/search?source=hp&ei=QwVyX6TUAsyGsAXwrZqoAw&q=site%3Alinkedin.com%2Fin%2F+%22University+of+California%2C+Berkeley%22+AND+%22Journalism%22+OR+%22Documentary%22+&oq=site%3Alinkedin.com%2Fin%2F+%22University+of+California%2C+Berkeley%22+AND+%22Journalism%22+OR+%22Documentary%22+&gs_lcp=CgZwc3ktYWIQA1CSGFihGWDTLWgAcAB4AoAB-QOIAdgPkgEFNC0xLjOYAQCgAQGqAQdnd3Mtd2l6&sclient=psy-ab&ved=0ahUKEwjkgamGmYzsAhVMA6wKHfCWBjUQ4dUDCAk&uact=5&num=200#', 'https://www.google.com/search?q=related:https://www.linkedin.com/in/marksluckie&sa=X&ved=2ahUKEwiv1PCMmYzsAhVLb60KHe8OBA8QHzA3egQIGBAG', 'https://www.linkedin.com/in/ashuangli', 'https://www.linkedin.com/in/evarendle', 'https://www.linkedin.com/in/hannah-ricker-06a8051a1', 'https://www.linkedin.com/in/laurine-lassalle-9bb99b141/en-us', 'https://www.linkedin.com/in/mikewelt', 'https://www.linkedin.com/in/ceylan-ersoy-4b9988b0', 'https://www.linkedin.com/in/kiminsung', 'https://www.google.com/search?source=hp&ei=QwVyX6TUAsyGsAXwrZqoAw&q=site%3Alinkedin.com%2Fin%2F+%22University+of+California%2C+Berkeley%22+AND+%22Journalism%22+OR+%22Documentary%22+&oq=site%3Alinkedin.com%2Fin%2F+%22University+of+California%2C+Berkeley%22+AND+%22Journalism%22+OR+%22Documentary%22+&gs_lcp=CgZwc3ktYWIQA1CSGFihGWDTLWgAcAB4AoAB-QOIAdgPkgEFNC0xLjOYAQCgAQGqAQdnd3Mtd2l6&sclient=psy-ab&ved=0ahUKEwjkgamGmYzsAhVMA6wKHfCWBjUQ4dUDCAk&uact=5&num=200#', 'https://www.google.com/search?q=related:https://www.linkedin.com/in/kiminsung&sa=X&ved=2ahUKEwiv1PCMmYzsAhVLb60KHe8OBA8QHzA-egQIJhAG', 'https://www.linkedin.com/in/ashley-omoma-9a08b0120', 'https://www.google.com/search?source=hp&ei=QwVyX6TUAsyGsAXwrZqoAw&q=site%3Alinkedin.com%2Fin%2F+%22University+of+California%2C+Berkeley%22+AND+%22Journalism%22+OR+%22Documentary%22+&oq=site%3Alinkedin.com%2Fin%2F+%22University+of+California%2C+Berkeley%22+AND+%22Journalism%22+OR+%22Documentary%22+&gs_lcp=CgZwc3ktYWIQA1CSGFihGWDTLWgAcAB4AoAB-QOIAdgPkgEFNC0xLjOYAQCgAQGqAQdnd3Mtd2l6&sclient=psy-ab&ved=0ahUKEwjkgamGmYzsAhVMA6wKHfCWBjUQ4dUDCAk&uact=5&num=200#', 'https://www.google.com/search?q=related:https://www.linkedin.com/in/ashley-omoma-9a08b0120&sa=X&ved=2ahUKEwiv1PCMmYzsAhVLb60KHe8OBA8QHzA_egQIJxAG', 'https://www.linkedin.com/in/sarah-phelan-78a20b5a', 'https://www.linkedin.com/in/jennifer-kahn-5a8b551', 'https://www.google.com/search?source=hp&ei=QwVyX6TUAsyGsAXwrZqoAw&q=site%3Alinkedin.com%2Fin%2F+%22University+of+California%2C+Berkeley%22+AND+%22Journalism%22+OR+%22Documentary%22+&oq=site%3Alinkedin.com%2Fin%2F+%22University+of+California%2C+Berkeley%22+AND+%22Journalism%22+OR+%22Documentary%22+&gs_lcp=CgZwc3ktYWIQA1CSGFihGWDTLWgAcAB4AoAB-QOIAdgPkgEFNC0xLjOYAQCgAQGqAQdnd3Mtd2l6&sclient=psy-ab&ved=0ahUKEwjkgamGmYzsAhVMA6wKHfCWBjUQ4dUDCAk&uact=5&num=200#', 'https://www.google.com/search?q=related:https://www.linkedin.com/in/jennifer-kahn-5a8b551&sa=X&ved=2ahUKEwiv1PCMmYzsAhVLb60KHe8OBA8QHzBBegQIKRAG', 'https://www.linkedin.com/in/meghan-mariani-5bb670139', 'https://www.linkedin.com/in/teresaleechin', 'https://www.google.com/search?source=hp&ei=QwVyX6TUAsyGsAXwrZqoAw&q=site%3Alinkedin.com%2Fin%2F+%22University+of+California%2C+Berkeley%22+AND+%22Journalism%22+OR+%22Documentary%22+&oq=site%3Alinkedin.com%2Fin%2F+%22University+of+California%2C+Berkeley%22+AND+%22Journalism%22+OR+%22Documentary%22+&gs_lcp=CgZwc3ktYWIQA1CSGFihGWDTLWgAcAB4AoAB-QOIAdgPkgEFNC0xLjOYAQCgAQGqAQdnd3Mtd2l6&sclient=psy-ab&ved=0ahUKEwjkgamGmYzsAhVMA6wKHfCWBjUQ4dUDCAk&uact=5&num=200#', 'https://www.google.com/search?q=related:https://www.linkedin.com/in/teresaleechin&sa=X&ved=2ahUKEwiv1PCMmYzsAhVLb60KHe8OBA8QHzBDegQILRAG', 'https://www.linkedin.com/in/jamesfahn', 'https://www.google.com/search?source=hp&ei=QwVyX6TUAsyGsAXwrZqoAw&q=site%3Alinkedin.com%2Fin%2F+%22University+of+California%2C+Berkeley%22+AND+%22Journalism%22+OR+%22Documentary%22+&oq=site%3Alinkedin.com%2Fin%2F+%22University+of+California%2C+Berkeley%22+AND+%22Journalism%22+OR+%22Documentary%22+&gs_lcp=CgZwc3ktYWIQA1CSGFihGWDTLWgAcAB4AoAB-QOIAdgPkgEFNC0xLjOYAQCgAQGqAQdnd3Mtd2l6&sclient=psy-ab&ved=0ahUKEwjkgamGmYzsAhVMA6wKHfCWBjUQ4dUDCAk&uact=5&num=200#', 'https://www.google.com/search?q=related:https://www.linkedin.com/in/jamesfahn&sa=X&ved=2ahUKEwiv1PCMmYzsAhVLb60KHe8OBA8QHzBEegQILhAG', 'https://www.linkedin.com/in/jackiespinner', 'https://www.google.com/search?source=hp&ei=QwVyX6TUAsyGsAXwrZqoAw&q=site%3Alinkedin.com%2Fin%2F+%22University+of+California%2C+Berkeley%22+AND+%22Journalism%22+OR+%22Documentary%22+&oq=site%3Alinkedin.com%2Fin%2F+%22University+of+California%2C+Berkeley%22+AND+%22Journalism%22+OR+%22Documentary%22+&gs_lcp=CgZwc3ktYWIQA1CSGFihGWDTLWgAcAB4AoAB-QOIAdgPkgEFNC0xLjOYAQCgAQGqAQdnd3Mtd2l6&sclient=psy-ab&ved=0ahUKEwjkgamGmYzsAhVMA6wKHfCWBjUQ4dUDCAk&uact=5&num=200#', 'https://www.google.com/search?q=related:https://www.linkedin.com/in/jackiespinner&sa=X&ved=2ahUKEwiv1PCMmYzsAhVLb60KHe8OBA8QHzBFegQIMRAG', 'https://www.linkedin.com/in/mayacraig', 'https://www.google.com/search?source=hp&ei=QwVyX6TUAsyGsAXwrZqoAw&q=site%3Alinkedin.com%2Fin%2F+%22University+of+California%2C+Berkeley%22+AND+%22Journalism%22+OR+%22Documentary%22+&oq=site%3Alinkedin.com%2Fin%2F+%22University+of+California%2C+Berkeley%22+AND+%22Journalism%22+OR+%22Documentary%22+&gs_lcp=CgZwc3ktYWIQA1CSGFihGWDTLWgAcAB4AoAB-QOIAdgPkgEFNC0xLjOYAQCgAQGqAQdnd3Mtd2l6&sclient=psy-ab&ved=0ahUKEwjkgamGmYzsAhVMA6wKHfCWBjUQ4dUDCAk&uact=5&num=200#', 'https://www.google.com/search?q=related:https://www.linkedin.com/in/mayacraig&sa=X&ved=2ahUKEwiv1PCMmYzsAhVLb60KHe8OBA8QHzBGegQIMhAG', 'https://www.linkedin.com/in/miki-katoni-67530786', 'https://www.linkedin.com/in/felicia-mello-calmatters', 'https://www.linkedin.com/in/kelly-whalen-60a6844', 'https://www.google.com/search?source=hp&ei=QwVyX6TUAsyGsAXwrZqoAw&q=site%3Alinkedin.com%2Fin%2F+%22University+of+California%2C+Berkeley%22+AND+%22Journalism%22+OR+%22Documentary%22+&oq=site%3Alinkedin.com%2Fin%2F+%22University+of+California%2C+Berkeley%22+AND+%22Journalism%22+OR+%22Documentary%22+&gs_lcp=CgZwc3ktYWIQA1CSGFihGWDTLWgAcAB4AoAB-QOIAdgPkgEFNC0xLjOYAQCgAQGqAQdnd3Mtd2l6&sclient=psy-ab&ved=0ahUKEwjkgamGmYzsAhVMA6wKHfCWBjUQ4dUDCAk&uact=5&num=200#', 'https://www.google.com/search?q=related:https://www.linkedin.com/in/kelly-whalen-60a6844&sa=X&ved=2ahUKEwiv1PCMmYzsAhVLb60KHe8OBA8QHzBJegQINRAG', 'https://www.linkedin.com/in/katherinewei', 'https://www.linkedin.com/in/laurelrosenhall', 'https://www.google.com/search?source=hp&ei=QwVyX6TUAsyGsAXwrZqoAw&q=site%3Alinkedin.com%2Fin%2F+%22University+of+California%2C+Berkeley%22+AND+%22Journalism%22+OR+%22Documentary%22+&oq=site%3Alinkedin.com%2Fin%2F+%22University+of+California%2C+Berkeley%22+AND+%22Journalism%22+OR+%22Documentary%22+&gs_lcp=CgZwc3ktYWIQA1CSGFihGWDTLWgAcAB4AoAB-QOIAdgPkgEFNC0xLjOYAQCgAQGqAQdnd3Mtd2l6&sclient=psy-ab&ved=0ahUKEwjkgamGmYzsAhVMA6wKHfCWBjUQ4dUDCAk&uact=5&num=200#', 'https://www.google.com/search?q=related:https://www.linkedin.com/in/laurelrosenhall&sa=X&ved=2ahUKEwiv1PCMmYzsAhVLb60KHe8OBA8QHzBLegQIMBAG', 'https://www.linkedin.com/in/megan-mylan-70b9955', 'https://translate.google.com/translate?hl=en&sl=pt&u=https://www.linkedin.com/in/megan-mylan-70b9955&prev=search&pto=aue', 'https://www.linkedin.com/in/wyatt-kroopf', 'https://www.linkedin.com/in/aben%C3%A9-clayton-91a37537', 'https://www.linkedin.com/in/kate-mclean-5253524', 'https://www.google.com/search?source=hp&ei=QwVyX6TUAsyGsAXwrZqoAw&q=site%3Alinkedin.com%2Fin%2F+%22University+of+California%2C+Berkeley%22+AND+%22Journalism%22+OR+%22Documentary%22+&oq=site%3Alinkedin.com%2Fin%2F+%22University+of+California%2C+Berkeley%22+AND+%22Journalism%22+OR+%22Documentary%22+&gs_lcp=CgZwc3ktYWIQA1CSGFihGWDTLWgAcAB4AoAB-QOIAdgPkgEFNC0xLjOYAQCgAQGqAQdnd3Mtd2l6&sclient=psy-ab&ved=0ahUKEwjkgamGmYzsAhVMA6wKHfCWBjUQ4dUDCAk&uact=5&num=200#', 'https://www.google.com/search?q=related:https://www.linkedin.com/in/kate-mclean-5253524&sa=X&ved=2ahUKEwiv1PCMmYzsAhVLb60KHe8OBA8QHzBPegQIJRAG', 'https://www.linkedin.com/in/mark-hansen-3b876424', 'https://www.google.com/search?source=hp&ei=QwVyX6TUAsyGsAXwrZqoAw&q=site%3Alinkedin.com%2Fin%2F+%22University+of+California%2C+Berkeley%22+AND+%22Journalism%22+OR+%22Documentary%22+&oq=site%3Alinkedin.com%2Fin%2F+%22University+of+California%2C+Berkeley%22+AND+%22Journalism%22+OR+%22Documentary%22+&gs_lcp=CgZwc3ktYWIQA1CSGFihGWDTLWgAcAB4AoAB-QOIAdgPkgEFNC0xLjOYAQCgAQGqAQdnd3Mtd2l6&sclient=psy-ab&ved=0ahUKEwjkgamGmYzsAhVMA6wKHfCWBjUQ4dUDCAk&uact=5&num=200#', 'https://www.google.com/search?q=related:https://www.linkedin.com/in/mark-hansen-3b876424&sa=X&ved=2ahUKEwiv1PCMmYzsAhVLb60KHe8OBA8QHzBQegQIGRAG', 'https://www.linkedin.com/in/jasonskoff', 'https://www.google.com/search?source=hp&ei=QwVyX6TUAsyGsAXwrZqoAw&q=site%3Alinkedin.com%2Fin%2F+%22University+of+California%2C+Berkeley%22+AND+%22Journalism%22+OR+%22Documentary%22+&oq=site%3Alinkedin.com%2Fin%2F+%22University+of+California%2C+Berkeley%22+AND+%22Journalism%22+OR+%22Documentary%22+&gs_lcp=CgZwc3ktYWIQA1CSGFihGWDTLWgAcAB4AoAB-QOIAdgPkgEFNC0xLjOYAQCgAQGqAQdnd3Mtd2l6&sclient=psy-ab&ved=0ahUKEwjkgamGmYzsAhVMA6wKHfCWBjUQ4dUDCAk&uact=5&num=200#', 'https://www.google.com/search?q=related:https://www.linkedin.com/in/jasonskoff&sa=X&ved=2ahUKEwiv1PCMmYzsAhVLb60KHe8OBA8QHzBRegQIJBAG', 'https://www.linkedin.com/in/mark-oltmanns-20095b18', 'https://www.linkedin.com/in/ximena-dergal-7748391a7', 'https://www.linkedin.com/in/jocelyntab', 'https://www.linkedin.com/in/seigo-kan-a06064190?trk=public_profile_browsemap_profile-result-card_result-card_full-click', 'https://www.linkedin.com/in/gabriellafrenes', 'https://www.linkedin.com/in/davidjcohn', 'https://www.google.com/search?source=hp&ei=QwVyX6TUAsyGsAXwrZqoAw&q=site%3Alinkedin.com%2Fin%2F+%22University+of+California%2C+Berkeley%22+AND+%22Journalism%22+OR+%22Documentary%22+&oq=site%3Alinkedin.com%2Fin%2F+%22University+of+California%2C+Berkeley%22+AND+%22Journalism%22+OR+%22Documentary%22+&gs_lcp=CgZwc3ktYWIQA1CSGFihGWDTLWgAcAB4AoAB-QOIAdgPkgEFNC0xLjOYAQCgAQGqAQdnd3Mtd2l6&sclient=psy-ab&ved=0ahUKEwjkgamGmYzsAhVMA6wKHfCWBjUQ4dUDCAk&uact=5&num=200#', 'https://www.google.com/search?q=related:https://www.linkedin.com/in/davidjcohn&sa=X&ved=2ahUKEwiv1PCMmYzsAhVLb60KHe8OBA8QHzBXegQIFhAG', 'https://www.linkedin.com/in/verachang', 'https://www.google.com/search?source=hp&ei=QwVyX6TUAsyGsAXwrZqoAw&q=site%3Alinkedin.com%2Fin%2F+%22University+of+California%2C+Berkeley%22+AND+%22Journalism%22+OR+%22Documentary%22+&oq=site%3Alinkedin.com%2Fin%2F+%22University+of+California%2C+Berkeley%22+AND+%22Journalism%22+OR+%22Documentary%22+&gs_lcp=CgZwc3ktYWIQA1CSGFihGWDTLWgAcAB4AoAB-QOIAdgPkgEFNC0xLjOYAQCgAQGqAQdnd3Mtd2l6&sclient=psy-ab&ved=0ahUKEwjkgamGmYzsAhVMA6wKHfCWBjUQ4dUDCAk&uact=5&num=200#', 'https://www.google.com/search?q=related:https://www.linkedin.com/in/verachang&sa=X&ved=2ahUKEwiv1PCMmYzsAhVLb60KHe8OBA8QHzBYegQIERAG', 'https://www.linkedin.com/in/jacobsimas', 'https://www.google.com/search?source=hp&ei=QwVyX6TUAsyGsAXwrZqoAw&q=site%3Alinkedin.com%2Fin%2F+%22University+of+California%2C+Berkeley%22+AND+%22Journalism%22+OR+%22Documentary%22+&oq=site%3Alinkedin.com%2Fin%2F+%22University+of+California%2C+Berkeley%22+AND+%22Journalism%22+OR+%22Documentary%22+&gs_lcp=CgZwc3ktYWIQA1CSGFihGWDTLWgAcAB4AoAB-QOIAdgPkgEFNC0xLjOYAQCgAQGqAQdnd3Mtd2l6&sclient=psy-ab&ved=0ahUKEwjkgamGmYzsAhVMA6wKHfCWBjUQ4dUDCAk&uact=5&num=200#', 'https://www.google.com/search?q=related:https://www.linkedin.com/in/jacobsimas&sa=X&ved=2ahUKEwiv1PCMmYzsAhVLb60KHe8OBA8QHzBZegQIAxAG', 'https://www.linkedin.com/in/jordan-ehrlich-a9130315', 'https://www.linkedin.com/in/wheelertimothy', 'https://www.google.com/search?source=hp&ei=QwVyX6TUAsyGsAXwrZqoAw&q=site%3Alinkedin.com%2Fin%2F+%22University+of+California%2C+Berkeley%22+AND+%22Journalism%22+OR+%22Documentary%22+&oq=site%3Alinkedin.com%2Fin%2F+%22University+of+California%2C+Berkeley%22+AND+%22Journalism%22+OR+%22Documentary%22+&gs_lcp=CgZwc3ktYWIQA1CSGFihGWDTLWgAcAB4AoAB-QOIAdgPkgEFNC0xLjOYAQCgAQGqAQdnd3Mtd2l6&sclient=psy-ab&ved=0ahUKEwjkgamGmYzsAhVMA6wKHfCWBjUQ4dUDCAk&uact=5&num=200#', 'https://www.google.com/search?q=related:https://www.linkedin.com/in/wheelertimothy&sa=X&ved=2ahUKEwiv1PCMmYzsAhVLb60KHe8OBA8QHzBbegQIDxAG', 'https://www.linkedin.com/in/natalie-keltner-mcneil-8545331a9', 'https://www.linkedin.com/in/chowmay', 'https://www.google.com/search?source=hp&ei=QwVyX6TUAsyGsAXwrZqoAw&q=site%3Alinkedin.com%2Fin%2F+%22University+of+California%2C+Berkeley%22+AND+%22Journalism%22+OR+%22Documentary%22+&oq=site%3Alinkedin.com%2Fin%2F+%22University+of+California%2C+Berkeley%22+AND+%22Journalism%22+OR+%22Documentary%22+&gs_lcp=CgZwc3ktYWIQA1CSGFihGWDTLWgAcAB4AoAB-QOIAdgPkgEFNC0xLjOYAQCgAQGqAQdnd3Mtd2l6&sclient=psy-ab&ved=0ahUKEwjkgamGmYzsAhVMA6wKHfCWBjUQ4dUDCAk&uact=5&num=200#', 'https://www.google.com/search?q=related:https://www.linkedin.com/in/chowmay&sa=X&ved=2ahUKEwiv1PCMmYzsAhVLb60KHe8OBA8QHzBdegQICxAG', 'https://www.linkedin.com/in/danielmcglynn', 'https://www.google.com/search?source=hp&ei=QwVyX6TUAsyGsAXwrZqoAw&q=site%3Alinkedin.com%2Fin%2F+%22University+of+California%2C+Berkeley%22+AND+%22Journalism%22+OR+%22Documentary%22+&oq=site%3Alinkedin.com%2Fin%2F+%22University+of+California%2C+Berkeley%22+AND+%22Journalism%22+OR+%22Documentary%22+&gs_lcp=CgZwc3ktYWIQA1CSGFihGWDTLWgAcAB4AoAB-QOIAdgPkgEFNC0xLjOYAQCgAQGqAQdnd3Mtd2l6&sclient=psy-ab&ved=0ahUKEwjkgamGmYzsAhVMA6wKHfCWBjUQ4dUDCAk&uact=5&num=200#', 'https://www.google.com/search?q=related:https://www.linkedin.com/in/danielmcglynn&sa=X&ved=2ahUKEwiv1PCMmYzsAhVLb60KHe8OBA8QHzBeegQIChAG', 'https://www.linkedin.com/in/yutaochen95/%7Bcountry%3Dus%2C+language%3Den%7D?trk=people-guest_profile-result-card_result-card_full-click', 'https://www.linkedin.com/in/tierney-henderson-79b342164', 'https://www.linkedin.com/in/sarah-gray-isenberg-9a536666', 'https://www.google.com/search?source=hp&ei=QwVyX6TUAsyGsAXwrZqoAw&q=site%3Alinkedin.com%2Fin%2F+%22University+of+California%2C+Berkeley%22+AND+%22Journalism%22+OR+%22Documentary%22+&oq=site%3Alinkedin.com%2Fin%2F+%22University+of+California%2C+Berkeley%22+AND+%22Journalism%22+OR+%22Documentary%22+&gs_lcp=CgZwc3ktYWIQA1CSGFihGWDTLWgAcAB4AoAB-QOIAdgPkgEFNC0xLjOYAQCgAQGqAQdnd3Mtd2l6&sclient=psy-ab&ved=0ahUKEwjkgamGmYzsAhVMA6wKHfCWBjUQ4dUDCAk&uact=5&num=200#', 'https://www.google.com/search?q=related:https://www.linkedin.com/in/sarah-gray-isenberg-9a536666&sa=X&ved=2ahUKEwiv1PCMmYzsAhVLb60KHe8OBA8QHzBhegQIARAG', 'https://www.linkedin.com/in/sachi-cunningham-2871794', 'https://www.linkedin.com/in/macarena-hern%C3%A1ndez-b3904055', 'https://www.google.com/search?source=hp&ei=QwVyX6TUAsyGsAXwrZqoAw&q=site%3Alinkedin.com%2Fin%2F+%22University+of+California%2C+Berkeley%22+AND+%22Journalism%22+OR+%22Documentary%22+&oq=site%3Alinkedin.com%2Fin%2F+%22University+of+California%2C+Berkeley%22+AND+%22Journalism%22+OR+%22Documentary%22+&gs_lcp=CgZwc3ktYWIQA1CSGFihGWDTLWgAcAB4AoAB-QOIAdgPkgEFNC0xLjOYAQCgAQGqAQdnd3Mtd2l6&sclient=psy-ab&ved=0ahUKEwjkgamGmYzsAhVMA6wKHfCWBjUQ4dUDCAk&uact=5&num=200#', 'https://www.google.com/search?q=related:https://www.linkedin.com/in/macarena-hern%25C3%25A1ndez-b3904055&sa=X&ved=2ahUKEwiv1PCMmYzsAhVLb60KHe8OBA8QHzBjegQIAhAG']\n"
     ]
    }
   ],
   "source": [
    "print (linkedin_urls)"
   ]
  },
  {
   "cell_type": "code",
   "execution_count": 31,
   "metadata": {},
   "outputs": [],
   "source": [
    "linkedin_urls = [url for url in linkedin_urls]\n",
    "sleep(3)\n",
    "\n",
    "i = 0"
   ]
  },
  {
   "cell_type": "code",
   "execution_count": 32,
   "metadata": {},
   "outputs": [
    {
     "name": "stdout",
     "output_type": "stream",
     "text": [
      "\n",
      "\n",
      "None\n",
      "None\n",
      "https://www.linkedin.com/in/vishakhagupta12/\n",
      "\n",
      "\n",
      "\n",
      "\n",
      "None\n",
      "None\n",
      "https://www.linkedin.com/in/berkeleyjschool/\n",
      "\n",
      "\n",
      "\n",
      "\n",
      "None\n",
      "None\n",
      "https://www.linkedin.com/in/betsyrate/\n",
      "\n",
      "\n",
      "\n",
      "\n",
      "None\n",
      "None\n",
      "https://www.linkedin.com/in/tian-chenwei-198582124/\n",
      "\n",
      "\n",
      "\n",
      "\n",
      "None\n",
      "None\n",
      "https://www.linkedin.com/in/carrie-lozano-documentary/\n",
      "\n",
      "\n"
     ]
    },
    {
     "ename": "NoSuchWindowException",
     "evalue": "Message: no such window: window was already closed\n  (Session info: chrome=85.0.4183.121)\n",
     "output_type": "error",
     "traceback": [
      "\u001b[0;31m---------------------------------------------------------------------------\u001b[0m",
      "\u001b[0;31mNoSuchWindowException\u001b[0m                     Traceback (most recent call last)",
      "\u001b[0;32m<ipython-input-32-38736ea60386>\u001b[0m in \u001b[0;36m<module>\u001b[0;34m\u001b[0m\n\u001b[1;32m      3\u001b[0m        \u001b[0;32mcontinue\u001b[0m\u001b[0;34m\u001b[0m\u001b[0;34m\u001b[0m\u001b[0m\n\u001b[1;32m      4\u001b[0m     \u001b[0;32melse\u001b[0m\u001b[0;34m:\u001b[0m\u001b[0;34m\u001b[0m\u001b[0;34m\u001b[0m\u001b[0m\n\u001b[0;32m----> 5\u001b[0;31m         \u001b[0mdriver\u001b[0m\u001b[0;34m.\u001b[0m\u001b[0mget\u001b[0m\u001b[0;34m(\u001b[0m\u001b[0mlinkedin_url\u001b[0m\u001b[0;34m)\u001b[0m\u001b[0;34m\u001b[0m\u001b[0;34m\u001b[0m\u001b[0m\n\u001b[0m\u001b[1;32m      6\u001b[0m \u001b[0;34m\u001b[0m\u001b[0m\n\u001b[1;32m      7\u001b[0m     \u001b[0msel\u001b[0m \u001b[0;34m=\u001b[0m \u001b[0mSelector\u001b[0m\u001b[0;34m(\u001b[0m\u001b[0mtext\u001b[0m\u001b[0;34m=\u001b[0m\u001b[0mdriver\u001b[0m\u001b[0;34m.\u001b[0m\u001b[0mpage_source\u001b[0m\u001b[0;34m)\u001b[0m\u001b[0;34m\u001b[0m\u001b[0;34m\u001b[0m\u001b[0m\n",
      "\u001b[0;32m/Library/Frameworks/Python.framework/Versions/3.8/lib/python3.8/site-packages/selenium/webdriver/remote/webdriver.py\u001b[0m in \u001b[0;36mget\u001b[0;34m(self, url)\u001b[0m\n\u001b[1;32m    331\u001b[0m         \u001b[0mLoads\u001b[0m \u001b[0ma\u001b[0m \u001b[0mweb\u001b[0m \u001b[0mpage\u001b[0m \u001b[0;32min\u001b[0m \u001b[0mthe\u001b[0m \u001b[0mcurrent\u001b[0m \u001b[0mbrowser\u001b[0m \u001b[0msession\u001b[0m\u001b[0;34m.\u001b[0m\u001b[0;34m\u001b[0m\u001b[0;34m\u001b[0m\u001b[0m\n\u001b[1;32m    332\u001b[0m         \"\"\"\n\u001b[0;32m--> 333\u001b[0;31m         \u001b[0mself\u001b[0m\u001b[0;34m.\u001b[0m\u001b[0mexecute\u001b[0m\u001b[0;34m(\u001b[0m\u001b[0mCommand\u001b[0m\u001b[0;34m.\u001b[0m\u001b[0mGET\u001b[0m\u001b[0;34m,\u001b[0m \u001b[0;34m{\u001b[0m\u001b[0;34m'url'\u001b[0m\u001b[0;34m:\u001b[0m \u001b[0murl\u001b[0m\u001b[0;34m}\u001b[0m\u001b[0;34m)\u001b[0m\u001b[0;34m\u001b[0m\u001b[0;34m\u001b[0m\u001b[0m\n\u001b[0m\u001b[1;32m    334\u001b[0m \u001b[0;34m\u001b[0m\u001b[0m\n\u001b[1;32m    335\u001b[0m     \u001b[0;34m@\u001b[0m\u001b[0mproperty\u001b[0m\u001b[0;34m\u001b[0m\u001b[0;34m\u001b[0m\u001b[0m\n",
      "\u001b[0;32m/Library/Frameworks/Python.framework/Versions/3.8/lib/python3.8/site-packages/selenium/webdriver/remote/webdriver.py\u001b[0m in \u001b[0;36mexecute\u001b[0;34m(self, driver_command, params)\u001b[0m\n\u001b[1;32m    319\u001b[0m         \u001b[0mresponse\u001b[0m \u001b[0;34m=\u001b[0m \u001b[0mself\u001b[0m\u001b[0;34m.\u001b[0m\u001b[0mcommand_executor\u001b[0m\u001b[0;34m.\u001b[0m\u001b[0mexecute\u001b[0m\u001b[0;34m(\u001b[0m\u001b[0mdriver_command\u001b[0m\u001b[0;34m,\u001b[0m \u001b[0mparams\u001b[0m\u001b[0;34m)\u001b[0m\u001b[0;34m\u001b[0m\u001b[0;34m\u001b[0m\u001b[0m\n\u001b[1;32m    320\u001b[0m         \u001b[0;32mif\u001b[0m \u001b[0mresponse\u001b[0m\u001b[0;34m:\u001b[0m\u001b[0;34m\u001b[0m\u001b[0;34m\u001b[0m\u001b[0m\n\u001b[0;32m--> 321\u001b[0;31m             \u001b[0mself\u001b[0m\u001b[0;34m.\u001b[0m\u001b[0merror_handler\u001b[0m\u001b[0;34m.\u001b[0m\u001b[0mcheck_response\u001b[0m\u001b[0;34m(\u001b[0m\u001b[0mresponse\u001b[0m\u001b[0;34m)\u001b[0m\u001b[0;34m\u001b[0m\u001b[0;34m\u001b[0m\u001b[0m\n\u001b[0m\u001b[1;32m    322\u001b[0m             response['value'] = self._unwrap_value(\n\u001b[1;32m    323\u001b[0m                 response.get('value', None))\n",
      "\u001b[0;32m/Library/Frameworks/Python.framework/Versions/3.8/lib/python3.8/site-packages/selenium/webdriver/remote/errorhandler.py\u001b[0m in \u001b[0;36mcheck_response\u001b[0;34m(self, response)\u001b[0m\n\u001b[1;32m    240\u001b[0m                 \u001b[0malert_text\u001b[0m \u001b[0;34m=\u001b[0m \u001b[0mvalue\u001b[0m\u001b[0;34m[\u001b[0m\u001b[0;34m'alert'\u001b[0m\u001b[0;34m]\u001b[0m\u001b[0;34m.\u001b[0m\u001b[0mget\u001b[0m\u001b[0;34m(\u001b[0m\u001b[0;34m'text'\u001b[0m\u001b[0;34m)\u001b[0m\u001b[0;34m\u001b[0m\u001b[0;34m\u001b[0m\u001b[0m\n\u001b[1;32m    241\u001b[0m             \u001b[0;32mraise\u001b[0m \u001b[0mexception_class\u001b[0m\u001b[0;34m(\u001b[0m\u001b[0mmessage\u001b[0m\u001b[0;34m,\u001b[0m \u001b[0mscreen\u001b[0m\u001b[0;34m,\u001b[0m \u001b[0mstacktrace\u001b[0m\u001b[0;34m,\u001b[0m \u001b[0malert_text\u001b[0m\u001b[0;34m)\u001b[0m\u001b[0;34m\u001b[0m\u001b[0;34m\u001b[0m\u001b[0m\n\u001b[0;32m--> 242\u001b[0;31m         \u001b[0;32mraise\u001b[0m \u001b[0mexception_class\u001b[0m\u001b[0;34m(\u001b[0m\u001b[0mmessage\u001b[0m\u001b[0;34m,\u001b[0m \u001b[0mscreen\u001b[0m\u001b[0;34m,\u001b[0m \u001b[0mstacktrace\u001b[0m\u001b[0;34m)\u001b[0m\u001b[0;34m\u001b[0m\u001b[0;34m\u001b[0m\u001b[0m\n\u001b[0m\u001b[1;32m    243\u001b[0m \u001b[0;34m\u001b[0m\u001b[0m\n\u001b[1;32m    244\u001b[0m     \u001b[0;32mdef\u001b[0m \u001b[0m_value_or_default\u001b[0m\u001b[0;34m(\u001b[0m\u001b[0mself\u001b[0m\u001b[0;34m,\u001b[0m \u001b[0mobj\u001b[0m\u001b[0;34m,\u001b[0m \u001b[0mkey\u001b[0m\u001b[0;34m,\u001b[0m \u001b[0mdefault\u001b[0m\u001b[0;34m)\u001b[0m\u001b[0;34m:\u001b[0m\u001b[0;34m\u001b[0m\u001b[0;34m\u001b[0m\u001b[0m\n",
      "\u001b[0;31mNoSuchWindowException\u001b[0m: Message: no such window: window was already closed\n  (Session info: chrome=85.0.4183.121)\n"
     ]
    }
   ],
   "source": [
    "for linkedin_url in linkedin_urls:\n",
    "    if \"google.com\" in linkedin_url: \n",
    "       continue\n",
    "    else:     \n",
    "        driver.get(linkedin_url)\n",
    "    \n",
    "    sel = Selector(text=driver.page_source)\n",
    "    \n",
    "    print('\\n')\n",
    "    \n",
    "    name = sel.xpath('//*[starts-with(@class, \"inline t-24 t-black t-normal break-words\")]/text()').extract_first()\n",
    "    if name:\n",
    "        name = name.strip()\n",
    "    print(name)\n",
    "    \n",
    "    \n",
    "    job_title = sel.xpath('//*[starts-with(@class, \"mt1 t-18 t-black t-normal break-words\")]/text()').extract_first()\n",
    "    if job_title:\n",
    "        job_title = job_title.strip()\n",
    "    print(job_title)    \n",
    "    \n",
    "    linkedin_url = driver.current_url\n",
    "    print(linkedin_url) \n",
    "    \n",
    "    sleep (7)\n",
    "    \n",
    "    print('\\n')\n",
    "    \n",
    "    name = validate_field(name)\n",
    "    job_title = validate_field(job_title)\n",
    "    linkedin_url = validate_field(linkedin_url)\n",
    "    \n",
    "    writer.writerow([name,\n",
    "                     job_title,\n",
    "                     linkedin_url]) "
   ]
  },
  {
   "cell_type": "code",
   "execution_count": 34,
   "metadata": {},
   "outputs": [],
   "source": [
    "driver.quit()"
   ]
  }
 ],
 "metadata": {
  "kernelspec": {
   "display_name": "Python 3",
   "language": "python",
   "name": "python3"
  },
  "language_info": {
   "codemirror_mode": {
    "name": "ipython",
    "version": 3
   },
   "file_extension": ".py",
   "mimetype": "text/x-python",
   "name": "python",
   "nbconvert_exporter": "python",
   "pygments_lexer": "ipython3",
   "version": "3.8.4"
  }
 },
 "nbformat": 4,
 "nbformat_minor": 4
}
